{
 "cells": [
  {
   "cell_type": "code",
   "execution_count": 2,
   "id": "4bb620e2-acb6-4ff9-a885-503b60f5772c",
   "metadata": {},
   "outputs": [],
   "source": [
    "import pandas as pd\n",
    "import matplotlib.pyplot as plt"
   ]
  },
  {
   "cell_type": "code",
   "execution_count": 26,
   "id": "57d7f8fb-c7db-4cf0-b1c8-758e8190c42d",
   "metadata": {},
   "outputs": [
    {
     "name": "stdout",
     "output_type": "stream",
     "text": [
      "<class 'pandas.core.frame.DataFrame'>\n",
      "RangeIndex: 4142 entries, 0 to 4141\n",
      "Data columns (total 16 columns):\n",
      " #   Column          Non-Null Count  Dtype  \n",
      "---  ------          --------------  -----  \n",
      " 0   id              4142 non-null   int64  \n",
      " 1   kategori        4142 non-null   object \n",
      " 2   baslik          4142 non-null   object \n",
      " 3   rega_no         2527 non-null   object \n",
      " 4   mukerrer_no     3642 non-null   float64\n",
      " 5   rega_tarihi     2527 non-null   object \n",
      " 6   kurum           2488 non-null   object \n",
      " 7   mevzuat_no      1091 non-null   object \n",
      " 8   belge_sayi      43 non-null     object \n",
      " 9   mevzuat_tarihi  1905 non-null   object \n",
      " 10  donem           500 non-null    object \n",
      " 11  sira_no         500 non-null    object \n",
      " 12  madde_sayisi    4142 non-null   int64  \n",
      " 13  data_text       4142 non-null   object \n",
      " 14  url             4142 non-null   object \n",
      " 15  kanunum_url     4142 non-null   object \n",
      "dtypes: float64(1), int64(2), object(13)\n",
      "memory usage: 517.9+ KB\n"
     ]
    }
   ],
   "source": [
    "fp = \"kanunum-nlp-doc-analysis-dataset.csv\"\n",
    "df = pd.read_csv(fp)\n",
    "df.info()"
   ]
  },
  {
   "cell_type": "code",
   "execution_count": 17,
   "id": "91e1b665-091e-4e69-bb40-bd8d4d74d491",
   "metadata": {},
   "outputs": [],
   "source": [
    "word_count = sorted([len(i[1][\"data_text\"].split()) for i in df.iterrows()]) # word counter for every data_text"
   ]
  },
  {
   "cell_type": "code",
   "execution_count": 30,
   "id": "26369727-b58d-4883-be31-fe826480e3e0",
   "metadata": {},
   "outputs": [
    {
     "data": {
      "text/plain": [
       "Text(0, 0.5, 'length')"
      ]
     },
     "execution_count": 30,
     "metadata": {},
     "output_type": "execute_result"
    },
    {
     "data": {
      "image/png": "[encoded data removed]",
      "text/plain": [
       "<Figure size 432x288 with 1 Axes>"
      ]
     },
     "metadata": {
      "needs_background": "light"
     },
     "output_type": "display_data"
    }
   ],
   "source": [
    "plt.plot(word_count)\n",
    "plt.xlabel('order')\n",
    "plt.ylabel('length')"
   ]
  },
  {
   "cell_type": "code",
   "execution_count": 23,
   "id": "3d0e00f4-0946-4bfa-b70b-abf210f1a57b",
   "metadata": {},
   "outputs": [
    {
     "data": {
      "text/plain": [
       "196718"
      ]
     },
     "execution_count": 23,
     "metadata": {},
     "output_type": "execute_result"
    }
   ],
   "source": [
    "word_count[-1] # longest data (by word)"
   ]
  }
 ],
 "metadata": {
  "kernelspec": {
   "display_name": "Python 3 (ipykernel)",
   "language": "python",
   "name": "python3"
  },
  "language_info": {
   "codemirror_mode": {
    "name": "ipython",
    "version": 3
   },
   "file_extension": ".py",
   "mimetype": "text/x-python",
   "name": "python",
   "nbconvert_exporter": "python",
   "pygments_lexer": "ipython3",
   "version": "3.10.0"
  }
 },
 "nbformat": 4,
 "nbformat_minor": 5
}
