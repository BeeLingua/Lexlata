{
 "cells": [
  {
   "cell_type": "code",
   "execution_count": 2,
   "id": "03dc197f",
   "metadata": {},
   "outputs": [
    {
     "name": "stderr",
     "output_type": "stream",
     "text": [
      "No sentence-transformers model found with name C:\\Users\\Furkan/.cache\\torch\\sentence_transformers\\sfurkan_LexBERT-turkish-uncased. Creating a new one with MEAN pooling.\n",
      "Some weights of the model checkpoint at C:\\Users\\Furkan/.cache\\torch\\sentence_transformers\\sfurkan_LexBERT-turkish-uncased were not used when initializing BertModel: ['cls.predictions.transform.LayerNorm.weight', 'cls.predictions.bias', 'cls.predictions.transform.dense.bias', 'cls.predictions.transform.LayerNorm.bias', 'cls.predictions.decoder.bias', 'cls.predictions.transform.dense.weight', 'cls.predictions.decoder.weight']\n",
      "- This IS expected if you are initializing BertModel from the checkpoint of a model trained on another task or with another architecture (e.g. initializing a BertForSequenceClassification model from a BertForPreTraining model).\n",
      "- This IS NOT expected if you are initializing BertModel from the checkpoint of a model that you expect to be exactly identical (initializing a BertForSequenceClassification model from a BertForSequenceClassification model).\n",
      "Some weights of BertModel were not initialized from the model checkpoint at C:\\Users\\Furkan/.cache\\torch\\sentence_transformers\\sfurkan_LexBERT-turkish-uncased and are newly initialized: ['bert.pooler.dense.bias', 'bert.pooler.dense.weight']\n",
      "You should probably TRAIN this model on a down-stream task to be able to use it for predictions and inference.\n"
     ]
    }
   ],
   "source": [
    "import pandas as pd\n",
    "from sentence_transformers import SentenceTransformer\n",
    "\n",
    "model = SentenceTransformer('sfurkan/LexBERT-turkish-uncased')\n",
    "\n",
    "fp = r'C:\\Users\\Furkan\\Desktop\\study\\nlp\\teknofest\\notebooks\\data_text.csv'\n",
    "ds = pd.read_csv(fp)\n",
    "sentences = ds['data_text']\n",
    "\n",
    "#Sentences are encoded by calling model.encode()\n",
    "embeddings = model.encode(sentences)"
   ]
  },
  {
   "cell_type": "code",
   "execution_count": 9,
   "id": "53848e4d",
   "metadata": {},
   "outputs": [],
   "source": [
    "import json\n",
    "\n",
    "with open(r\"C:\\Users\\Furkan\\Desktop\\study\\nlp\\teknofest\\notebooks\\sbert_embeddings.json\", \"w\") as save_file:\n",
    "    json.dump(embeddings.tolist(), save_file, indent=6)"
   ]
  },
  {
   "cell_type": "code",
   "execution_count": 17,
   "id": "ae6a897c",
   "metadata": {},
   "outputs": [
    {
     "data": {
      "text/plain": [
       "'İstanbul, 08 Kasım 2013 2013/967 \\n\\n\\n\\nGENELGE No: 16 \\n\\nKonu: Kaldıraçlı İşlemlere İlişkin Promosyon Kampanyaları Hk. \\n\\nSAYIN ÜYEMİZ, \\n\\nBilindiği üzere, Sermaye Piyasası Kurulu düzenlemeleri uyarınca, aracı kurumlarca ve yetkili oldukları sermaye piyasası faaliyetlerine yönelik olarak bankalarca yapılacak promosyon kampanyaları uygulanmaya başlanmadan önce Birliğimize yazılı olarak bildirilmekte ve incelenen başvurular onaylandıktan sonra planlanan promosyon kampanyaları düzenlenebilmektedir. \\n\\nBu çerçevede, Birlik Yönetim Kurulu’nun, 8 Kasım 2013 tarih ve 264 sayılı toplantısında, promosyon kampanyaları değerlendirilerek; \\n\\nKaldıraçlı işlemlerde; \\n\\na) Müşteri hesabına, işlemler öncesinde bonus, hediye para gibi çeşitli isimler altında yatırılan tutarlar ile işlem gerçekleştirilmesine yönelik promosyon başvurularına Birlik tarafından onay verilmemesine, \\n\\nb) Birlikçe bugüne kadar bu kapsamda onay verilmiş olan promosyon kampanyalarına ilişkin olarak, yazımızın tebellüğünden itibaren kampanya kapsamına yeni müşterilerin dahil edilmemesine ve kampanya kapsamındaki yatırımcıların işlemlerinin ise, Birliğimizce onay verilmiş olan kampanya bitiş tarihi itibariyle sonlandırılmasına, karar verilmiştir. \\n\\nGereği için bilgilerinize sunarım. \\n\\nSaygılarımla,'"
      ]
     },
     "execution_count": 17,
     "metadata": {},
     "output_type": "execute_result"
    }
   ],
   "source": [
    "from sklearn.metrics.pairwise import cosine_similarity\n",
    "\n",
    "def most_similar(text, embeddings):\n",
    "    text_emb = model.encode(text)\n",
    "    most_sim = 0\n",
    "    for index, emb in enumerate(embeddings):\n",
    "        sim = cosine_similarity([text_emb], [emb])[0][0]\n",
    "        if sim > most_sim:\n",
    "            most_sim_index = index\n",
    "            most_sim = sim\n",
    "    return most_sim_index\n",
    "sentences[most_similar('Türk silahlı kuvvetlerine yönelik', embeddings)]"
   ]
  },
  {
   "cell_type": "code",
   "execution_count": null,
   "id": "e067c95e",
   "metadata": {},
   "outputs": [],
   "source": []
  }
 ],
 "metadata": {
  "kernelspec": {
   "display_name": "Python 3 (ipykernel)",
   "language": "python",
   "name": "python3"
  },
  "language_info": {
   "codemirror_mode": {
    "name": "ipython",
    "version": 3
   },
   "file_extension": ".py",
   "mimetype": "text/x-python",
   "name": "python",
   "nbconvert_exporter": "python",
   "pygments_lexer": "ipython3",
   "version": "3.9.7"
  }
 },
 "nbformat": 4,
 "nbformat_minor": 5
}
