{
 "cells": [
  {
   "cell_type": "code",
   "execution_count": 6,
   "id": "54e15a7d",
   "metadata": {},
   "outputs": [
    {
     "name": "stdout",
     "output_type": "stream",
     "text": [
      "Collecting turkish-lemma\n",
      "  Downloading turkish_lemma-0.2.tar.gz (3.1 kB)\n",
      "Requirement already satisfied: keras in c:\\users\\furkan\\anaconda3\\lib\\site-packages (from turkish-lemma) (2.9.0)\n",
      "Building wheels for collected packages: turkish-lemma\n",
      "  Building wheel for turkish-lemma (setup.py): started\n",
      "  Building wheel for turkish-lemma (setup.py): finished with status 'done'\n",
      "  Created wheel for turkish-lemma: filename=turkish_lemma-0.2-py3-none-any.whl size=3918 sha256=cb2d4bf0cd116cad0dba9e445e0307cc2af2744db40a97f86e812d072125d5bc\n",
      "  Stored in directory: c:\\users\\furkan\\appdata\\local\\pip\\cache\\wheels\\8d\\18\\90\\13cf2abe857a147c6009b97a6081f0aa7a9f5656e3a127636b\n",
      "Successfully built turkish-lemma\n",
      "Installing collected packages: turkish-lemma\n",
      "Successfully installed turkish-lemma-0.2\n"
     ]
    }
   ],
   "source": [
    "!pip install turkish-lemma"
   ]
  },
  {
   "cell_type": "code",
   "execution_count": 7,
   "id": "dd6667a7",
   "metadata": {},
   "outputs": [],
   "source": [
    "import turkish_lemma  #Be careful to import only once since it performs downloads and installations."
   ]
  },
  {
   "cell_type": "code",
   "execution_count": 9,
   "id": "f261f301",
   "metadata": {},
   "outputs": [
    {
     "name": "stdout",
     "output_type": "stream",
     "text": [
      "\n",
      "              --------------------\n",
      "              Lemmatizer: akoksal_Turkish_Lemmatizer\n",
      "              Return From Function: ['merhaba', 'bu', 'bir', 'test', 'cümle']\n",
      "              --------------------\n",
      "              \n",
      "\n",
      "              --------------------\n",
      "              Lemmatizer: obulat_zeyrek\n",
      "              Return From Function: ['merhaba', 'bu', 'bir', 'test', 'cümle']\n",
      "              --------------------\n",
      "              \n",
      "\n",
      "              --------------------\n",
      "              Lemmatizer: otuncelli_turkish_stemmer_python\n",
      "              Return From Function: ['Merhaba,', 'bu', 'bir', 'test', 'cümlesidir.']\n",
      "              --------------------\n",
      "              \n",
      "\n",
      "              --------------------\n",
      "              Lemmatizer: deeplearningturkiye_kelime_kok_ayirici\n",
      "              Return From Function: ['merhaba', 'bu', 'bir', 'test', 'cümles']\n",
      "              --------------------\n",
      "              \n",
      "\n",
      "              --------------------\n",
      "              Lemmatizer: snowballstem_snowball\n",
      "              Return From Function: ['Merhaba,', 'bu', 'bir', 'test', 'cümlesidir.']\n",
      "              --------------------\n",
      "              \n",
      "\n",
      "              --------------------\n",
      "              Lemmatizer: NoneType\n",
      "              Return From Function: ['Merhaba,', 'bu', 'bir', 'test', 'cümlesidir.']\n",
      "              --------------------\n",
      "              \n"
     ]
    }
   ],
   "source": [
    "def example(lemmatizedWords=[]):  #Argument name must be exactly 'lemmatizedWords'.\n",
    "    \"\"\"\n",
    "    ...\n",
    "    Your logic codes go here.\n",
    "    ...\n",
    "    \"\"\"\n",
    "    return lemmatizedWords  #Return something you want to observe.\n",
    "\n",
    "turkish_lemma.tryLemmatizers(func=example, funcArgs=(), funcKwargs={}, wordList=\"Merhaba, bu bir test cümlesidir.\".split(' '), includeNone=True)  #tryLemmatizers will call the given function for all lemmatizers and will print each of the returns from the function associated with each of the lemmatizers."
   ]
  },
  {
   "cell_type": "code",
   "execution_count": null,
   "id": "477b1c8f",
   "metadata": {},
   "outputs": [],
   "source": []
  }
 ],
 "metadata": {
  "kernelspec": {
   "display_name": "Python 3 (ipykernel)",
   "language": "python",
   "name": "python3"
  },
  "language_info": {
   "codemirror_mode": {
    "name": "ipython",
    "version": 3
   },
   "file_extension": ".py",
   "mimetype": "text/x-python",
   "name": "python",
   "nbconvert_exporter": "python",
   "pygments_lexer": "ipython3",
   "version": "3.9.7"
  }
 },
 "nbformat": 4,
 "nbformat_minor": 5
}
