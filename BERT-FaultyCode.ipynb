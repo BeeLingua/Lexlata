{
 "cells": [
  {
   "cell_type": "code",
   "execution_count": 17,
   "id": "db1a3e17",
   "metadata": {},
   "outputs": [
    {
     "name": "stdout",
     "output_type": "stream",
     "text": [
      "Requirement already satisfied: transformers in c:\\users\\furkan\\anaconda3\\lib\\site-packages (4.20.1)\n",
      "Requirement already satisfied: requests in c:\\users\\furkan\\anaconda3\\lib\\site-packages (from transformers) (2.26.0)\n",
      "Requirement already satisfied: regex!=2019.12.17 in c:\\users\\furkan\\anaconda3\\lib\\site-packages (from transformers) (2021.8.3)\n",
      "Requirement already satisfied: tqdm>=4.27 in c:\\users\\furkan\\anaconda3\\lib\\site-packages (from transformers) (4.62.3)\n",
      "Requirement already satisfied: numpy>=1.17 in c:\\users\\furkan\\anaconda3\\lib\\site-packages (from transformers) (1.20.3)\n",
      "Requirement already satisfied: huggingface-hub<1.0,>=0.1.0 in c:\\users\\furkan\\anaconda3\\lib\\site-packages (from transformers) (0.8.1)\n",
      "Requirement already satisfied: packaging>=20.0 in c:\\users\\furkan\\anaconda3\\lib\\site-packages (from transformers) (21.3)\n",
      "Requirement already satisfied: pyyaml>=5.1 in c:\\users\\furkan\\anaconda3\\lib\\site-packages (from transformers) (6.0)\n",
      "Requirement already satisfied: filelock in c:\\users\\furkan\\anaconda3\\lib\\site-packages (from transformers) (3.3.1)\n",
      "Requirement already satisfied: tokenizers!=0.11.3,<0.13,>=0.11.1 in c:\\users\\furkan\\anaconda3\\lib\\site-packages (from transformers) (0.12.1)\n",
      "Requirement already satisfied: typing-extensions>=3.7.4.3 in c:\\users\\furkan\\anaconda3\\lib\\site-packages (from huggingface-hub<1.0,>=0.1.0->transformers) (3.10.0.2)\n",
      "Requirement already satisfied: pyparsing!=3.0.5,>=2.0.2 in c:\\users\\furkan\\anaconda3\\lib\\site-packages (from packaging>=20.0->transformers) (3.0.4)\n",
      "Requirement already satisfied: colorama in c:\\users\\furkan\\anaconda3\\lib\\site-packages (from tqdm>=4.27->transformers) (0.4.4)\n",
      "Requirement already satisfied: charset-normalizer~=2.0.0 in c:\\users\\furkan\\anaconda3\\lib\\site-packages (from requests->transformers) (2.0.4)\n",
      "Requirement already satisfied: certifi>=2017.4.17 in c:\\users\\furkan\\anaconda3\\lib\\site-packages (from requests->transformers) (2021.10.8)\n",
      "Requirement already satisfied: urllib3<1.27,>=1.21.1 in c:\\users\\furkan\\anaconda3\\lib\\site-packages (from requests->transformers) (1.26.7)\n",
      "Requirement already satisfied: idna<4,>=2.5 in c:\\users\\furkan\\anaconda3\\lib\\site-packages (from requests->transformers) (3.2)\n"
     ]
    }
   ],
   "source": [
    "!pip install transformers"
   ]
  },
  {
   "cell_type": "code",
   "execution_count": 2,
   "id": "1812fab8",
   "metadata": {},
   "outputs": [],
   "source": [
    "from transformers import AutoTokenizer, AutoModelForPreTraining\n",
    "import numpy as np\n",
    "import torch\n",
    "\n",
    "tokenizer = AutoTokenizer.from_pretrained(\"dbmdz/bert-base-turkish-uncased\")\n",
    "model = AutoModelForPreTraining.from_pretrained(\"dbmdz/bert-base-turkish-uncased\", output_hidden_states=True)"
   ]
  },
  {
   "cell_type": "code",
   "execution_count": 16,
   "id": "b4221606",
   "metadata": {},
   "outputs": [
    {
     "name": "stdout",
     "output_type": "stream",
     "text": [
      "0.845899656989336\n"
     ]
    }
   ],
   "source": [
    "EMBEDDING_VECTOR_SHAPE = (768,)\n",
    "\n",
    "model.eval()\n",
    "\n",
    "# Referans: https://mccormickml.com/2019/05/14/BERT-word-embeddings-tutorial/\n",
    "def getPhraseEmbedding(sentence, phrase):\n",
    "    sentence = sentence\n",
    "    sentenceTokens = tokenizer.tokenize(sentence)\n",
    "    indexedTokens = tokenizer.convert_tokens_to_ids(sentenceTokens)\n",
    "\n",
    "    segmentIDs = [1] * len(sentenceTokens)\n",
    "    \n",
    "    sentenceTokensTensor = torch.tensor([indexedTokens])\n",
    "    segmentsTensor = torch.tensor([segmentIDs])\n",
    "\n",
    "    tokenEmbeddings = []\n",
    "    with torch.no_grad():\n",
    "        outputs = model(sentenceTokensTensor, segmentsTensor)\n",
    "        hiddenStates = outputs.hidden_states\n",
    "        \n",
    "        _tokenEmbeddings = torch.stack(hiddenStates, dim=0)\n",
    "        _tokenEmbeddings = _tokenEmbeddings.squeeze(dim=1)  #Batch dimension kaldırıldı\n",
    "        _tokenEmbeddings = _tokenEmbeddings.permute(1,0,2)  #Dimension'lar [token, layer, vector_feature] sırasına getirildi\n",
    "        for token in _tokenEmbeddings:\n",
    "            tokenEmbeddings.append(torch.mean(token[-4:], dim=0))  #Son 4 hidden layer'in toplanması sonucu token embedding elde edilmesi\n",
    "    \n",
    "    phraseTokens = tokenizer.tokenize(phrase)  #İstenen kelime veya kelime grubunun tokenizasyonu\n",
    "    for sTokenIndex in range(len(sentenceTokens)):\n",
    "        if sentenceTokens[sTokenIndex] == phraseTokens[0]:\n",
    "            phraseStartIndex = sTokenIndex  #Kelime grubunun başlangıç indexinin belirlenmesi \n",
    "            \n",
    "    phraseEndIndex = phraseStartIndex + len(phraseTokens)  #Bitiş indexinin belirlenmesi\n",
    "    \n",
    "    phraseMeanEmbedding = np.zeros(EMBEDDING_VECTOR_SHAPE)  #Kelime grubu başlangıç-bitiş indexleri arasındaki ortalama embedding'i tutacak olan vektör\n",
    "    for tokenIndex in range(phraseStartIndex, phraseEndIndex):\n",
    "        phraseMeanEmbedding = np.add(phraseMeanEmbedding, tokenEmbeddings[tokenIndex])\n",
    "    phraseMeanEmbedding /= (phraseEndIndex - phraseStartIndex)  #Ortalama embedding'in elde edilmesi\n",
    "    \n",
    "    return phraseMeanEmbedding\n",
    "\n",
    "def cosine_similarity(vector1, vector2):\n",
    "    vector1 = np.array(vector1)\n",
    "    vector2 = np.array(vector2)\n",
    "    return np.dot(vector1, vector2) / (np.sqrt(np.sum(vector1**2)) * np.sqrt(np.sum(vector2**2)))\n",
    "\n",
    "print(cosine_similarity(getPhraseEmbedding(\"uzun\", \"uzun\"), getPhraseEmbedding(\"kısa\", \"kısa\")))"
   ]
  },
  {
   "cell_type": "code",
   "execution_count": null,
   "id": "053c1511",
   "metadata": {},
   "outputs": [],
   "source": []
  }
 ],
 "metadata": {
  "kernelspec": {
   "display_name": "Python 3 (ipykernel)",
   "language": "python",
   "name": "python3"
  },
  "language_info": {
   "codemirror_mode": {
    "name": "ipython",
    "version": 3
   },
   "file_extension": ".py",
   "mimetype": "text/x-python",
   "name": "python",
   "nbconvert_exporter": "python",
   "pygments_lexer": "ipython3",
   "version": "3.9.7"
  }
 },
 "nbformat": 4,
 "nbformat_minor": 5
}
