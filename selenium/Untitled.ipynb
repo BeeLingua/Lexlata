{
 "cells": [
  {
   "cell_type": "code",
   "execution_count": 6,
   "id": "0240fce9",
   "metadata": {},
   "outputs": [],
   "source": [
    "from selenium import webdriver\n",
    "from selenium.webdriver.common.action_chains import ActionChains"
   ]
  },
  {
   "cell_type": "code",
   "execution_count": 13,
   "id": "09080517",
   "metadata": {},
   "outputs": [],
   "source": [
    "driver = webdriver.Chrome(executable_path=\"C:/Users/omerb/OneDrive/Masaüstü/selenium/chromedriver.exe\")\n",
    "\n",
    "driver.get(\"https://www.mevzuat.gov.tr/#kanunlar\")\n",
    "\n",
    "element = driver.find_element_by_id(\"btnSearch\")\n",
    "\n",
    "action = ActionChains(driver)\n",
    "\n",
    "action.click(on_element = element)\n",
    "\n",
    "action.perform()"
   ]
  },
  {
   "cell_type": "code",
   "execution_count": 22,
   "id": "98ffdaad",
   "metadata": {},
   "outputs": [
    {
     "name": "stdout",
     "output_type": "stream",
     "text": [
      "['7417', 'DEVLET MEMURLARI KANUNU İLE BAZI KANUNLARDA VE 375 SAYILI KANUN HÜKMÜNDE KARARNAMEDE DEĞİŞİKLİK YAPILMASINA DAİR KANUN', 'Kanunlar Tertip: 5 Resmî Gazete Tarihi: 05.07.2022 Sayısı: 31887 Kabul Tarihi: 01.07.2022', '7412', 'İSTANBUL FİNANS MERKEZİ KANUNU', 'Kanunlar Tertip: 5 Resmî Gazete Tarihi: 28.06.2022 Sayısı: 31880 Kabul Tarihi: 22.06.2022', '7405', 'SPOR KULÜPLERİ VE SPOR FEDERASYONLARI KANUNU', 'Kanunlar Tertip: 5 Resmî Gazete Tarihi: 26.04.2022 Sayısı: 31821 Kabul Tarihi: 22.04.2022', '7381', 'NÜKLEER DÜZENLEME KANUNU', 'Kanunlar Tertip: 5 Resmî Gazete Tarihi: 08.03.2022 Sayısı: 31772 Kabul Tarihi: 05.03.2022', '7354', 'ÖĞRETMENLİK MESLEK KANUNU', 'Kanunlar Tertip: 5 Resmî Gazete Tarihi: 14.02.2022 Sayısı: 31750 Kabul Tarihi: 03.02.2022', '7330', 'MAKİNE VE KİMYA ENDÜSTRİSİ ANONİM ŞİRKETİ HAKKINDA KANUN', 'Kanunlar Tertip: 5 Resmî Gazete Tarihi: 03.07.2021 Sayısı: 31530 Kabul Tarihi: 30.06.2021', '7326', 'BAZI ALACAKLARIN YENİDEN YAPILANDIRILMASI İLE BAZI KANUNLARDA DEĞİŞİKLİK YAPILMASINA İLİŞKİN KANUN', 'Kanunlar Tertip: 5 Resmî Gazete Tarihi: 09.06.2021 Sayısı: 31506 Kabul Tarihi: 03.06.2021', '7315', 'GÜVENLİK SORUŞTURMASI VE ARŞİV ARAŞTIRMASI KANUNU', 'Kanunlar Tertip: 5 Resmî Gazete Tarihi: 17.04.2021 Sayısı: 31455 Kabul Tarihi: 07.04.2021', '7262', 'KİTLE İMHA SİLAHLARININ YAYILMASININ FİNANSMANININ ÖNLENMESİNE İLİŞKİN KANUN', 'Kanunlar Tertip: 5 Resmî Gazete Tarihi: 31.12.2020 Sayısı: 31351 (Mükerrer) Kabul Tarihi: 27.12.2020', '7261', 'TÜRKİYE ÇEVRE AJANSININ KURULMASI İLE BAZI KANUNLARDA DEĞİŞİKLİK YAPILMASINA DAİR KANUN', 'Kanunlar Tertip: 5 Resmî Gazete Tarihi: 30.12.2020 Sayısı: 31350 Kabul Tarihi: 24.12.2020']\n"
     ]
    }
   ],
   "source": [
    "ad = driver.find_element_by_xpath(\"/html/body/div[5]/div/div/div/div/div[5]/div/div/div/div[2]/div/table/tbody\")\n",
    "\n",
    "print(ad.text.split(\"\\n\"))"
   ]
  }
 ],
 "metadata": {
  "kernelspec": {
   "display_name": "chatbot",
   "language": "python",
   "name": "chatbot"
  },
  "language_info": {
   "codemirror_mode": {
    "name": "ipython",
    "version": 3
   },
   "file_extension": ".py",
   "mimetype": "text/x-python",
   "name": "python",
   "nbconvert_exporter": "python",
   "pygments_lexer": "ipython3",
   "version": "3.6.13"
  }
 },
 "nbformat": 4,
 "nbformat_minor": 5
}
