{
 "cells": [
  {
   "cell_type": "code",
   "execution_count": 47,
   "id": "0240fce9",
   "metadata": {},
   "outputs": [],
   "source": [
    "from selenium import webdriver\n",
    "from selenium.webdriver.common.action_chains import ActionChains"
   ]
  },
  {
   "cell_type": "code",
   "execution_count": 65,
   "id": "09080517",
   "metadata": {},
   "outputs": [
    {
     "name": "stdout",
     "output_type": "stream",
     "text": [
      "15\n"
     ]
    },
    {
     "ename": "StaleElementReferenceException",
     "evalue": "Message: stale element reference: element is not attached to the page document\n  (Session info: chrome=103.0.5060.134)\n",
     "output_type": "error",
     "traceback": [
      "\u001b[1;31m---------------------------------------------------------------------------\u001b[0m",
      "\u001b[1;31mStaleElementReferenceException\u001b[0m            Traceback (most recent call last)",
      "\u001b[1;32m<ipython-input-65-ec0ab535151b>\u001b[0m in \u001b[0;36m<module>\u001b[1;34m\u001b[0m\n\u001b[0;32m     25\u001b[0m \u001b[1;31m#We got ElementNotInterectable Error\u001b[0m\u001b[1;33m\u001b[0m\u001b[1;33m\u001b[0m\u001b[1;33m\u001b[0m\u001b[0m\n\u001b[0;32m     26\u001b[0m \u001b[0maction\u001b[0m\u001b[1;33m.\u001b[0m\u001b[0mclick\u001b[0m\u001b[1;33m(\u001b[0m\u001b[0mon_element\u001b[0m \u001b[1;33m=\u001b[0m \u001b[0melezort\u001b[0m\u001b[1;33m)\u001b[0m\u001b[1;33m\u001b[0m\u001b[1;33m\u001b[0m\u001b[0m\n\u001b[1;32m---> 27\u001b[1;33m \u001b[0maction\u001b[0m\u001b[1;33m.\u001b[0m\u001b[0mperform\u001b[0m\u001b[1;33m(\u001b[0m\u001b[1;33m)\u001b[0m\u001b[1;33m\u001b[0m\u001b[1;33m\u001b[0m\u001b[0m\n\u001b[0m\u001b[0;32m     28\u001b[0m \u001b[1;33m\u001b[0m\u001b[0m\n\u001b[0;32m     29\u001b[0m \u001b[1;33m\u001b[0m\u001b[0m\n",
      "\u001b[1;32m~\\anaconda3\\envs\\chatbot\\lib\\site-packages\\selenium\\webdriver\\common\\action_chains.py\u001b[0m in \u001b[0;36mperform\u001b[1;34m(self)\u001b[0m\n\u001b[0;32m     78\u001b[0m         \"\"\"\n\u001b[0;32m     79\u001b[0m         \u001b[1;32mif\u001b[0m \u001b[0mself\u001b[0m\u001b[1;33m.\u001b[0m\u001b[0m_driver\u001b[0m\u001b[1;33m.\u001b[0m\u001b[0mw3c\u001b[0m\u001b[1;33m:\u001b[0m\u001b[1;33m\u001b[0m\u001b[1;33m\u001b[0m\u001b[0m\n\u001b[1;32m---> 80\u001b[1;33m             \u001b[0mself\u001b[0m\u001b[1;33m.\u001b[0m\u001b[0mw3c_actions\u001b[0m\u001b[1;33m.\u001b[0m\u001b[0mperform\u001b[0m\u001b[1;33m(\u001b[0m\u001b[1;33m)\u001b[0m\u001b[1;33m\u001b[0m\u001b[1;33m\u001b[0m\u001b[0m\n\u001b[0m\u001b[0;32m     81\u001b[0m         \u001b[1;32melse\u001b[0m\u001b[1;33m:\u001b[0m\u001b[1;33m\u001b[0m\u001b[1;33m\u001b[0m\u001b[0m\n\u001b[0;32m     82\u001b[0m             \u001b[1;32mfor\u001b[0m \u001b[0maction\u001b[0m \u001b[1;32min\u001b[0m \u001b[0mself\u001b[0m\u001b[1;33m.\u001b[0m\u001b[0m_actions\u001b[0m\u001b[1;33m:\u001b[0m\u001b[1;33m\u001b[0m\u001b[1;33m\u001b[0m\u001b[0m\n",
      "\u001b[1;32m~\\anaconda3\\envs\\chatbot\\lib\\site-packages\\selenium\\webdriver\\common\\actions\\action_builder.py\u001b[0m in \u001b[0;36mperform\u001b[1;34m(self)\u001b[0m\n\u001b[0;32m     74\u001b[0m             \u001b[1;32mif\u001b[0m \u001b[0mencoded\u001b[0m\u001b[1;33m[\u001b[0m\u001b[1;34m'actions'\u001b[0m\u001b[1;33m]\u001b[0m\u001b[1;33m:\u001b[0m\u001b[1;33m\u001b[0m\u001b[1;33m\u001b[0m\u001b[0m\n\u001b[0;32m     75\u001b[0m                 \u001b[0menc\u001b[0m\u001b[1;33m[\u001b[0m\u001b[1;34m\"actions\"\u001b[0m\u001b[1;33m]\u001b[0m\u001b[1;33m.\u001b[0m\u001b[0mappend\u001b[0m\u001b[1;33m(\u001b[0m\u001b[0mencoded\u001b[0m\u001b[1;33m)\u001b[0m\u001b[1;33m\u001b[0m\u001b[1;33m\u001b[0m\u001b[0m\n\u001b[1;32m---> 76\u001b[1;33m         \u001b[0mself\u001b[0m\u001b[1;33m.\u001b[0m\u001b[0mdriver\u001b[0m\u001b[1;33m.\u001b[0m\u001b[0mexecute\u001b[0m\u001b[1;33m(\u001b[0m\u001b[0mCommand\u001b[0m\u001b[1;33m.\u001b[0m\u001b[0mW3C_ACTIONS\u001b[0m\u001b[1;33m,\u001b[0m \u001b[0menc\u001b[0m\u001b[1;33m)\u001b[0m\u001b[1;33m\u001b[0m\u001b[1;33m\u001b[0m\u001b[0m\n\u001b[0m\u001b[0;32m     77\u001b[0m \u001b[1;33m\u001b[0m\u001b[0m\n\u001b[0;32m     78\u001b[0m     \u001b[1;32mdef\u001b[0m \u001b[0mclear_actions\u001b[0m\u001b[1;33m(\u001b[0m\u001b[0mself\u001b[0m\u001b[1;33m)\u001b[0m\u001b[1;33m:\u001b[0m\u001b[1;33m\u001b[0m\u001b[1;33m\u001b[0m\u001b[0m\n",
      "\u001b[1;32m~\\anaconda3\\envs\\chatbot\\lib\\site-packages\\selenium\\webdriver\\remote\\webdriver.py\u001b[0m in \u001b[0;36mexecute\u001b[1;34m(self, driver_command, params)\u001b[0m\n\u001b[0;32m    319\u001b[0m         \u001b[0mresponse\u001b[0m \u001b[1;33m=\u001b[0m \u001b[0mself\u001b[0m\u001b[1;33m.\u001b[0m\u001b[0mcommand_executor\u001b[0m\u001b[1;33m.\u001b[0m\u001b[0mexecute\u001b[0m\u001b[1;33m(\u001b[0m\u001b[0mdriver_command\u001b[0m\u001b[1;33m,\u001b[0m \u001b[0mparams\u001b[0m\u001b[1;33m)\u001b[0m\u001b[1;33m\u001b[0m\u001b[1;33m\u001b[0m\u001b[0m\n\u001b[0;32m    320\u001b[0m         \u001b[1;32mif\u001b[0m \u001b[0mresponse\u001b[0m\u001b[1;33m:\u001b[0m\u001b[1;33m\u001b[0m\u001b[1;33m\u001b[0m\u001b[0m\n\u001b[1;32m--> 321\u001b[1;33m             \u001b[0mself\u001b[0m\u001b[1;33m.\u001b[0m\u001b[0merror_handler\u001b[0m\u001b[1;33m.\u001b[0m\u001b[0mcheck_response\u001b[0m\u001b[1;33m(\u001b[0m\u001b[0mresponse\u001b[0m\u001b[1;33m)\u001b[0m\u001b[1;33m\u001b[0m\u001b[1;33m\u001b[0m\u001b[0m\n\u001b[0m\u001b[0;32m    322\u001b[0m             response['value'] = self._unwrap_value(\n\u001b[0;32m    323\u001b[0m                 response.get('value', None))\n",
      "\u001b[1;32m~\\anaconda3\\envs\\chatbot\\lib\\site-packages\\selenium\\webdriver\\remote\\errorhandler.py\u001b[0m in \u001b[0;36mcheck_response\u001b[1;34m(self, response)\u001b[0m\n\u001b[0;32m    240\u001b[0m                 \u001b[0malert_text\u001b[0m \u001b[1;33m=\u001b[0m \u001b[0mvalue\u001b[0m\u001b[1;33m[\u001b[0m\u001b[1;34m'alert'\u001b[0m\u001b[1;33m]\u001b[0m\u001b[1;33m.\u001b[0m\u001b[0mget\u001b[0m\u001b[1;33m(\u001b[0m\u001b[1;34m'text'\u001b[0m\u001b[1;33m)\u001b[0m\u001b[1;33m\u001b[0m\u001b[1;33m\u001b[0m\u001b[0m\n\u001b[0;32m    241\u001b[0m             \u001b[1;32mraise\u001b[0m \u001b[0mexception_class\u001b[0m\u001b[1;33m(\u001b[0m\u001b[0mmessage\u001b[0m\u001b[1;33m,\u001b[0m \u001b[0mscreen\u001b[0m\u001b[1;33m,\u001b[0m \u001b[0mstacktrace\u001b[0m\u001b[1;33m,\u001b[0m \u001b[0malert_text\u001b[0m\u001b[1;33m)\u001b[0m\u001b[1;33m\u001b[0m\u001b[1;33m\u001b[0m\u001b[0m\n\u001b[1;32m--> 242\u001b[1;33m         \u001b[1;32mraise\u001b[0m \u001b[0mexception_class\u001b[0m\u001b[1;33m(\u001b[0m\u001b[0mmessage\u001b[0m\u001b[1;33m,\u001b[0m \u001b[0mscreen\u001b[0m\u001b[1;33m,\u001b[0m \u001b[0mstacktrace\u001b[0m\u001b[1;33m)\u001b[0m\u001b[1;33m\u001b[0m\u001b[1;33m\u001b[0m\u001b[0m\n\u001b[0m\u001b[0;32m    243\u001b[0m \u001b[1;33m\u001b[0m\u001b[0m\n\u001b[0;32m    244\u001b[0m     \u001b[1;32mdef\u001b[0m \u001b[0m_value_or_default\u001b[0m\u001b[1;33m(\u001b[0m\u001b[0mself\u001b[0m\u001b[1;33m,\u001b[0m \u001b[0mobj\u001b[0m\u001b[1;33m,\u001b[0m \u001b[0mkey\u001b[0m\u001b[1;33m,\u001b[0m \u001b[0mdefault\u001b[0m\u001b[1;33m)\u001b[0m\u001b[1;33m:\u001b[0m\u001b[1;33m\u001b[0m\u001b[1;33m\u001b[0m\u001b[0m\n",
      "\u001b[1;31mStaleElementReferenceException\u001b[0m: Message: stale element reference: element is not attached to the page document\n  (Session info: chrome=103.0.5060.134)\n"
     ]
    }
   ],
   "source": [
    "#You need to change the path\n",
    "driver = webdriver.Chrome(executable_path=\"C:/Users/omerb/OneDrive/Masaüstü/selenium/chromedriver.exe\")\n",
    "#Opening website\n",
    "driver.get(\"https://www.mevzuat.gov.tr/#kanunlar\")\n",
    "#Finding search button\n",
    "element = driver.find_element_by_id(\"btnSearch\")\n",
    "\n",
    "action = ActionChains(driver)\n",
    "#Clicking on the button\n",
    "action.click(on_element = element)\n",
    "#Clicked\n",
    "action.perform()\n",
    "\n",
    "\n",
    "#To reach the content of each title, we need to click on the title but we can't.\n",
    "elements = driver.find_elements_by_class_name('ml-1')\n",
    "\n",
    "#I tried this too\n",
    "#elements = driver.find_elements_by_tag_name('a') \n",
    "\n",
    "#There are more than expected elements in the elements list. I don't know why, there are 11 ml-1 class but len(elements) = 15\n",
    "#If we use find_elements_by_tag instead of class name, len(elements) = 81\n",
    "print(len(elements))\n",
    "\n",
    "#We got ElementNotInterectable Error \n",
    "action.click(on_element = elezort)\n",
    "action.perform()\n",
    "\n",
    "\n",
    "\"\"\"\n",
    "Tried this at first, but it didn't work. We already got the table content with XPath, we just need the content of the titles.\n",
    "With the help of selenium, we are trying to escape from for loops, especially two nested for loops to avoid Big O Notation.\n",
    "for page in elements:\n",
    "    action.click(on_element = page)\n",
    "    action.perform()\n",
    "    elezort = driver.find_elements_by_name(\"mevzuatFrame\")\n",
    "    print(elezort)\n",
    "\n",
    "\"\"\""
   ]
  },
  {
   "cell_type": "code",
   "execution_count": 3,
   "id": "98ffdaad",
   "metadata": {},
   "outputs": [
    {
     "name": "stdout",
     "output_type": "stream",
     "text": [
      "['7417', 'DEVLET MEMURLARI KANUNU İLE BAZI KANUNLARDA VE 375 SAYILI KANUN HÜKMÜNDE KARARNAMEDE DEĞİŞİKLİK YAPILMASINA DAİR KANUN', 'Kanunlar Tertip: 5 Resmî Gazete Tarihi: 05.07.2022 Sayısı: 31887 Kabul Tarihi: 01.07.2022', '7412', 'İSTANBUL FİNANS MERKEZİ KANUNU', 'Kanunlar Tertip: 5 Resmî Gazete Tarihi: 28.06.2022 Sayısı: 31880 Kabul Tarihi: 22.06.2022', '7405', 'SPOR KULÜPLERİ VE SPOR FEDERASYONLARI KANUNU', 'Kanunlar Tertip: 5 Resmî Gazete Tarihi: 26.04.2022 Sayısı: 31821 Kabul Tarihi: 22.04.2022', '7381', 'NÜKLEER DÜZENLEME KANUNU', 'Kanunlar Tertip: 5 Resmî Gazete Tarihi: 08.03.2022 Sayısı: 31772 Kabul Tarihi: 05.03.2022', '7354', 'ÖĞRETMENLİK MESLEK KANUNU', 'Kanunlar Tertip: 5 Resmî Gazete Tarihi: 14.02.2022 Sayısı: 31750 Kabul Tarihi: 03.02.2022', '7330', 'MAKİNE VE KİMYA ENDÜSTRİSİ ANONİM ŞİRKETİ HAKKINDA KANUN', 'Kanunlar Tertip: 5 Resmî Gazete Tarihi: 03.07.2021 Sayısı: 31530 Kabul Tarihi: 30.06.2021', '7326', 'BAZI ALACAKLARIN YENİDEN YAPILANDIRILMASI İLE BAZI KANUNLARDA DEĞİŞİKLİK YAPILMASINA İLİŞKİN KANUN', 'Kanunlar Tertip: 5 Resmî Gazete Tarihi: 09.06.2021 Sayısı: 31506 Kabul Tarihi: 03.06.2021', '7315', 'GÜVENLİK SORUŞTURMASI VE ARŞİV ARAŞTIRMASI KANUNU', 'Kanunlar Tertip: 5 Resmî Gazete Tarihi: 17.04.2021 Sayısı: 31455 Kabul Tarihi: 07.04.2021', '7262', 'KİTLE İMHA SİLAHLARININ YAYILMASININ FİNANSMANININ ÖNLENMESİNE İLİŞKİN KANUN', 'Kanunlar Tertip: 5 Resmî Gazete Tarihi: 31.12.2020 Sayısı: 31351 (Mükerrer) Kabul Tarihi: 27.12.2020', '7261', 'TÜRKİYE ÇEVRE AJANSININ KURULMASI İLE BAZI KANUNLARDA DEĞİŞİKLİK YAPILMASINA DAİR KANUN', 'Kanunlar Tertip: 5 Resmî Gazete Tarihi: 30.12.2020 Sayısı: 31350 Kabul Tarihi: 24.12.2020']\n"
     ]
    }
   ],
   "source": [
    "ad = driver.find_element_by_xpath(\"/html/body/div[5]/div/div/div/div/div[5]/div/div/div/div[2]/div/table/tbody\")\n",
    "\n",
    "print(ad.text.split(\"\\n\"))"
   ]
  }
 ],
 "metadata": {
  "kernelspec": {
   "display_name": "chatbot",
   "language": "python",
   "name": "chatbot"
  },
  "language_info": {
   "codemirror_mode": {
    "name": "ipython",
    "version": 3
   },
   "file_extension": ".py",
   "mimetype": "text/x-python",
   "name": "python",
   "nbconvert_exporter": "python",
   "pygments_lexer": "ipython3",
   "version": "3.6.13"
  }
 },
 "nbformat": 4,
 "nbformat_minor": 5
}
