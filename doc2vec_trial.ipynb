{
 "cells": [
  {
   "cell_type": "code",
   "execution_count": 51,
   "id": "532073df-457b-4565-b31c-97c11f7501b5",
   "metadata": {},
   "outputs": [],
   "source": [
    "from gensim.models.doc2vec import Doc2Vec, TaggedDocument\n",
    "from nltk.tokenize import word_tokenize\n",
    "from gensim.test.utils import common_texts\n",
    "import os\n",
    "from gensim.utils import tokenize\n",
    "import pandas as pd"
   ]
  },
  {
   "cell_type": "code",
   "execution_count": 58,
   "id": "b675e793-b28a-475e-aaa2-575678dc9988",
   "metadata": {},
   "outputs": [],
   "source": [
    "ds_name = 'kanunum-nlp-doc-analysis-dataset.csv'\n",
    "\n",
    "def find(name, path):\n",
    "    for root, dirs, files in os.walk(path):\n",
    "        if name in files:\n",
    "            return os.path.join(root, name)\n",
    "\n",
    "def list2d(texts):\n",
    "    result = []\n",
    "    for law in texts:\n",
    "        line = []\n",
    "        for token in law:\n",
    "            line.append(token)\n",
    "        result.append(line)\n",
    "    return result\n",
    "\n",
    "ds_fp = find(ds_name, '/')\n",
    "ds = pd.read_csv(ds_fp)\n",
    "\n"
   ]
  },
  {
   "cell_type": "code",
   "execution_count": 59,
   "id": "f53a5d45-6e95-4f6e-b8b1-ee29bf60b792",
   "metadata": {},
   "outputs": [],
   "source": [
    "texts = [tokenize(i) for i in ds['data_text']]\n",
    "text = list2d(texts)\n",
    "documents = [TaggedDocument(doc, [i]) for i, doc in enumerate(text)]"
   ]
  },
  {
   "cell_type": "code",
   "execution_count": 56,
   "id": "9aea77ad-5c38-4145-bb80-1b64bb444817",
   "metadata": {},
   "outputs": [],
   "source": [
    "model = Doc2Vec(documents, vector_size=100, window=4, min_count=1, workers=8, epochs=10)"
   ]
  },
  {
   "cell_type": "code",
   "execution_count": 99,
   "id": "61bcb771-8f52-4f5b-9314-e10c2d72e66b",
   "metadata": {},
   "outputs": [],
   "source": [
    "input_text = 'elektronik cihazlar vergisi'\n",
    "input_text_embedding = [model.infer_vector(input_text.split())]"
   ]
  },
  {
   "cell_type": "code",
   "execution_count": 100,
   "id": "3e5a9305-8a34-44ce-bba7-c12b7b085c85",
   "metadata": {},
   "outputs": [
    {
     "name": "stderr",
     "output_type": "stream",
     "text": [
      "/var/folders/v0/w3_rg1yn73q9cjs3q6kf4v400000gn/T/ipykernel_11919/564576582.py:1: DeprecationWarning: Call to deprecated `docvecs` (The `docvecs` property has been renamed `dv`.).\n",
      "  model.docvecs.most_similar(input_text_embedding, topn=2)\n"
     ]
    },
    {
     "data": {
      "text/plain": [
       "[(2626, 0.2692943513393402), (4122, 0.26163357496261597)]"
      ]
     },
     "execution_count": 100,
     "metadata": {},
     "output_type": "execute_result"
    }
   ],
   "source": [
    "model.docvecs.most_similar(input_text_embedding, topn=2)"
   ]
  },
  {
   "cell_type": "code",
   "execution_count": 101,
   "id": "ba43a22b-5a67-4bbe-b99b-e154b39fd33e",
   "metadata": {},
   "outputs": [
    {
     "data": {
      "text/plain": [
       "'Resmî Gazete Tarihi Resmî Gazete Sayısı VERGİ USUL KANUNU GENEL TEBLİĞİ SIRA NO Giriş Elektronik fatura kullanımına ilişkin usul ve esasları belirleyen ve tarihli ve sayılı Resmî Gazete de yayımlanan Vergi Usul Kanunu Genel Tebliği Sıra No ile anonim ve limited şirketlerin elektronik fatura oluşturmalarına alıcısına iletmelerine muhafaza ve istenildiğinde ibraz etmelerine izin verilmiştir tarihli ve sayılı Resmî Gazete de yayımlanan Sıra Numaralı Vergi Usul Kanunu Genel Tebliğinde Değişiklik Yapılmasına Dair Genel Tebliği Sıra No ile de tarihli ve sayılı Vergi Usul Kanununun nci maddesi kapsamında fatura düzenlemek zorunda olan mükelleflere elektronik fatura uygulamasından yararlanma hakkı tanınmıştır Diğer taraftan tarihli ve sayılı Resmî Gazete de yayımlanan Elektronik Defter Genel Tebliği Sıra No ile Vergi Usul Kanunu kapsamında tutulması zorunlu olan defterlerden www edefter gov tr internet adresinde format ve standardı yayımlanan defterlerin elektronik ortamda oluşturulmasına ilişkin usul ve esaslar belirlenerek elektronik defter kullanımına izin verilmiştir Mükelleflerin vergi kanunlarına uyumlarının artırılması ile kayıt dışılığın izlenerek önlenmesi amacıyla elektronik fatura kullanma ve elektronik defter tutma zorunluluğu getirilmesi bu Tebliğin konusunu teşkil etmektedir Yetki sayılı Vergi Usul Kanununun mükerrer nci maddesinin birinci fıkrasının inci bendinde Maliye Bakanlığının mükellef ve meslek grupları itibarıyla muhasebe usul ve esaslarını tespit etmeye aynı Kanuna göre tutulmakta olan defter ve belgeler ile bunlara ilaveten tutulmasını veya düzenlenmesini uygun gördüğü defter ve belgelerin mahiyet şekil ve ihtiva etmesi zorunlu bilgileri belirlemeye bunlarda değişiklik yapmaya bedeli karşılığında basıp dağıtmaya veya üçüncü kişilere bastırıp dağıtmaya veya dağıttırmaya bunların kayıtlarını tutturmaya bu defter ve belgelere tasdik muhafaza ve ibraz zorunluluğu getirmeye veya kaldırmaya yine aynı Kanuna göre tutulacak defter ve düzenlenecek belgelerin tutulması ve düzenlenmesi zorunluluğunu kaldırmaya yetkili olduğu hükme bağlanmıştır Vergi Usul Kanununun mükerrer nci maddesinin birinci fıkrasının üncü bendinde Maliye Bakanlığının tutulması ve düzenlenmesi zorunlu defter kayıt ve belgelerin mikro film mikro fiş veya elektronik bilgi ve kayıt araçlarıyla yapılması veya bu kayıt ortamlarında saklanması hususunda izin vermeye veya zorunluluk getirmeye bu şekilde tutulacak defter ve kayıtların kopyalarının Maliye Bakanlığında veya muhafaza etmekle görevlendireceği kurumlarda saklanması zorunluluğu getirmeye bu konuda uygulama usul ve esaslarını belirlemeye yetkili olduğu hükme bağlanmıştır Öte yandan aynı Kanunun mükerrer nci maddesinin ikinci fıkrası ile Maliye Bakanlığı elektronik defter kayıt ve belgelerin oluşturulması kaydedilmesi iletilmesi muhafazası ve ibrazı ile defter ve belgelerin elektronik ortamda tutulması ve düzenlenmesi uygulamasına ilişkin usul ve esasları belirlemeye elektronik ortamda tutulmasına ve düzenlenmesine izin verilen defter ve belgelerde yer alması gereken bilgileri internet de dâhil olmak üzere her türlü elektronik bilgi iletişim araç ve ortamında Maliye Bakanlığına veya Maliye Bakanlığının gözetim ve denetimine tâbi olup kuruluşu faaliyetleri çalışma ve denetim esasları Bakanlar Kurulunca çıkarılacak bir yönetmelikle belirlenecek olan özel hukuk tüzel kişiliğini haiz bir şirkete aktarma zorunluluğu getirmeye bilgi aktarımında uyulacak format ve standartlar ile uygulamaya ilişkin usul ve esasları tespit etmeye aynı Kanun kapsamına giren işlemlerde elektronik imza kullanım usul ve esaslarını düzenlemeye ve denetlemeye yetkili kılınmıştır Söz konusu fıkrada ayrıca Vergi Usul Kanunu ve diğer vergi kanunlarında defter kayıt ve belgelere ilişkin olarak yer alan hükümlerin elektronik defter kayıt ve belgeler için de geçerli olduğu Maliye Bakanlığının elektronik defter belge ve kayıtlar için diğer defter belge ve kayıtlara ilişkin usul ve esaslardan farklı usul ve esaslar belirlemeye yetkili olduğu hükme bağlanmıştır Elektronik Defter ve Elektronik Fatura Zorunluluğu Kapsama Giren Mükellefler Yukarıda yer verilen yetkilere istinaden Bakanlığımızca aşağıda sayılan mükellef gruplarına elektronik defter tutma ve elektronik fatura uygulamasına dâhil olma zorunluluğu getirilmiştir a tarihli ve sayılı Petrol Piyasası Kanunu kapsamında madeni yağ lisansına sahip olanlar ile bunlardan takvim yılında mal alan mükelleflerden tarihi itibariyle asgari Milyon TL brüt satış hasılatına sahip olanlar b tarihli ve sayılı Özel Tüketim Vergisi Kanununa ekli III sayılı listedeki malları imal inşa veya ithal edenler ile bunlardan takvim yılında mal alan mükelleflerden tarihi itibariyle asgari Milyon TL brüt satış hasılatına sahip olanlar Bu Tebliğ kapsamında zorunluluk getirilen mükelleflerden mal alan tarihli ve sayılı Kamu Malî Yönetimi ve Kontrol Kanununa ekli cetvellerde yer alan idare kurum ve kuruluşlar ile iktisadi kamu kuruluşlarının elektronik fatura uygulamasından yararlanma ve elektronik defter tutma zorunluluğu bulunmamaktadır Değişik RG mükerrer Bu Tebliğ kapsamında zorunluluk getirilen mükelleflerin birbirlerine sattıkları mallar ve ifa ettikleri hizmetler için düzenledikleri faturaları tarihinden itibaren elektronik fatura olarak göndermeleri ve almaları zorunludur Elektronik Fatura Uygulamasından yararlanan kayıtlı kullanıcıların güncel listesi www efatura gov tr internet adresinden yayımlanacaktır Elektronik Fatura Uygulamasından yararlanan mükellefler fatura düzenlemeden önce muhatabın www efatura gov tr internet adresinde yer alan kayıtlı kullanıcı listesine kayıtlı olup olmadığını kontrol edecekler kayıtlı kullanıcı ise elektronik fatura kayıtlı kullanıcı değilse kâğıt fatura düzenleyeceklerdir Bu Tebliğ kapsamındaki mükelleflerden mal veya hizmet alan ve belirlenen hadlerin altında kalan mükelleflerin de istemeleri halinde elektronik defter ve elektronik fatura uygulamalarından yararlanabilecekleri tabiidir Ek RG Bu Tebliğ kapsamında elektronik fatura ve elektronik defter uygulamasına geçme zorunluluğu getirilen mükellefler tam bölünme birleşme devralma şeklinde birleşme ve yeni kuruluş şeklinde birleşme veya tür nev i değişikliğine gitmeleri halinde devrolunan veya birleşilen tüzel kişi mükellefler ile tam bölünme veya tür nev i değişikliği sonucunda ortaya çıkan yeni tüzel kişi mükellefler elektronik fatura uygulamasına geçmek ve elektronik defter kullanmak zorundadır Uygulamalara geçme süresi hiçbir koşulda işlemin ticaret siciline tescil tarihini izleyen ayın başından itibaren ayı geçemez Elektronik Fatura ve Elektronik Deftere Geçiş Süresi bölümde yer alan zorunluluk kapsamına giren mükelleflerin a Elektronik fatura uygulamasına takvim yılı tarihi itibariyle Gelir İdaresi Başkanlığı na başvurulması gerekmektedir b Elektronik defter uygulamasına ise takvim yılı Elektronik defter yazılımlarını kendi geliştiren mükelleflerin tarihi itibariyle elektronik defter test süreçlerini başarı ile tamamlamış olmaları gerekmektedir içerisinde geçmeleri zorunludur Sıra Numaralı Vergi Usul Kanunu Genel Tebliğinde Yapılan Değişiklikler sıra numaralı Vergi Usul Kanunu Genel Tebliğinin üçüncü bölümünün son paragrafı aşağıdaki şekilde değiştirilmiştir Elektronik Fatura uygulamasına kayıtlı olan mükelleflerin birbirlerinden aldıkları mallar ve sağladıkları hizmetler için tarihinden itibaren elektronik fatura göndermeleri ve almaları zorunludur Elektronik fatura uygulamasına kayıtlı olan mükellefler elektronik fatura uygulamasına kayıtlı olmayan mükelleflere yaptıkları mal teslimi ve hizmet ifası için genel hükümler çerçevesinde kağıt fatura düzenlemeye devam edeceklerdir sıra numaralı Vergi Usul Kanunu Genel Tebliğinin bölümünün ilk paragrafından sonra gelmek üzere aşağıdaki iki paragraf eklenmiştir Bununla birlikte mükellefler elektronik fatura gönderme ve alma işlemlerini teknik yeterliliğe sahip Başkanlıktan özel entegrasyon izni almış mükelleflerin bilgi işlem sistemi vasıtasıyla da gerçekleştirebilirler Özel entegrasyon izni almak isteyen mükellefler e Fatura Uygulamasına başvuru için gerekli belgelerin yanında özel entegrasyon talebini içeren bir dilekçe ve ekinde Özel Entegrasyon Bilgi İşlem Sistem Raporu BİS ile Başkanlığa başvuru yapacaklardır Özel entegrasyon yapmak isteyen mükelleflerin www efatura gov tr internet adresinde yayımlanan kılavuzlara uygun bilgi işlem altyapısını kurmaları zorunludur Başkanlık özel entegrasyon yapan mükellefler için ilave yükümlülük belirlemeye ve istediğinde ulusal ve uluslararası standartlara uyma zorunluluğu getirmeye yetkilidir Mükellefin elektronik fatura gönderip alma işlemini özel entegrasyon izni alan mükelleflere ait bilgi işlem sistemi vasıtasıyla gerçekleştirmesi muhafaza ve ibraz ödevlerini ortadan kaldırmaz Elektronik fatura gönderip alma işleminde kullanılan bilgi işlem sistemi yazılım ve donanım alt yapısının Türkiye Cumhuriyeti sınırları içerisinde ve Türkiye Cumhuriyeti Kanunlarının geçerli olduğu yerlerde bulunması zorunludur Özel entegrasyon izni alan mükelleflerin listesi www efatura gov tr internet adresinden yayımlanacaktır Bilgi işlem sistemi yurt dışından yönetilen mükelleflerin elektronik fatura uygulamasından entegrasyon yöntemiyle yararlanma konusundaki durumları yapacakları başvuru üzerine Başkanlıkça değerlendirilerek elektronik fatura gönderip almalarına izin verilebilecektir sıra numaralı Vergi Usul Kanunu Genel Tebliğinin bölümünün üçüncü paragrafının sonuna gelmek üzere aşağıdaki cümle eklenmiştir Bu yükümlülük elektronik faturaların üçüncü kişiler nezdinde muhafaza edilmesi durumunda muhafaza eden için de yasal süreler içinde geçerlidir sıra numaralı Vergi Usul Kanunu Genel Tebliğinin bölümünün dördüncü paragrafı aşağıdaki şekilde değiştirilmiş beşinci ve altıncı paragraflar eklenmiştir Mükelleflere ait elektronik faturaların yine mükelleflere ait bilgi işlem sistemlerinde saklanması esas olup üçüncü kişiler nezdinde de elektronik saklama yapılabilecektir Başka mükelleflerden elektronik saklama hizmetinin alınması mükelleflerin elektronik faturalarının muhafaza ve ibraz sorumluluğunu ortadan kaldırmaz Elektronik faturaların muhafazasının Türkiye Cumhuriyeti sınırları içerisinde ve Türkiye Cumhuriyeti Kanunlarının geçerli olduğu yerlerde yapılması zorunludur Bu zorunluluk yurt dışında ikincil bir arşivleme yapılmasına engel teşkil etmez Başka mükelleflere ait elektronik faturaları saklama hizmeti verenler elektronik fatura uygulamasını bilgi işlem sistemlerinin entegrasyonu yöntemiyle kullanmak zorundadır Elektronik Fatura Saklama Hizmeti verecek mükelleflerin Başkanlığa Elektronik Fatura Saklama Hizmeti Başvuru Formu ve Taahhütnamesi ile başvuru yaparak saklama izni almaları zorunludur Bu amaçla başvuru yapacak mükelleflerin başvuru dilekçesi ekinde Bilgi İşlem Sistem Raporunu BİS göndermesi gerekmektedir Başkanlıktan elektronik fatura saklama hizmeti izni almadan saklama yapılması Başkanlık nezdinde hüküm ifade etmez Saklama izni alan mükelleflerin listesi www efatura gov tr internet adresinden yayımlanacaktır Saklama koşulları ve saklama hizmeti verecek mükellefin uyması gereken diğer kurallar www efatura gov tr internet adresinde yayımlanacaktır Gerekli görülen durumlarda elektronik fatura saklama hizmeti verenlerden elektronik fatura bilgilerine ilişkin olarak belirlenecek standartlara uygun üretilecek raporların ibrazı elektronik fatura saklama hizmeti verenlere ait bilgi işlem sistem veya sistemlerine sürekli erişimin sağlanması sureti ile istenebilir Bu kapsamda ifade edilen erişimin sağlanması için kullanılacak yöntem ve teknolojiler ile ibraz yükümlülüğünün yerine getirilmesi ile ilgili süreçler www efatura gov tr adresinde açıklanır Elektronik fatura saklama hizmeti verenlerin bilgi işlem sistemine erişim ile ilgili yetki sektör mükellef veya faaliyet hacimleri itibarıyla kullanılabilir Başkanlık elektronik fatura saklama hizmeti veren mükellefler için ilave yükümlülük belirlemeye ve istediğinde ulusal ve uluslararası standartlara uyma zorunluluğu getirmeye yetkilidir Maliye Bakanlığı gerek görmesi halinde bu Tebliğde belirlenen esaslar ile sınırlı olmak üzere başka mükelleflere ait elektronik faturaları saklama hizmeti verenlerin bilgi işlem sistemlerini denetleme yetkisine sahiptir Sorumluluk ve Cezai Yaptırımlar Değişik RG sıra numaralı Vergi Usul Kanunu Genel Tebliği kapsamında bilgi işlem sistemlerinin entegrasyonu yöntemiyle elektronik fatura uygulamasından yararlanan mükellefler sistemlerini kesintisiz gün saat fatura ve ilgili mesajları alabilir ve gönderebilir halde açık tutmak zorundadırlar Mücbir sebepler dışında bu zorunluluğa uymayan mükelleflerin entegrasyon izinleri iptal edilecek olup Başkanlık tarafından portal hesapları otomatik olarak açılacaktır Entegrasyon izni iptal edilen ve portal hesapları açılan mükellefler isterlerse Başkanlıktan izin almış bir özel entegratör ile de anlaşabilir ve elektronik fatura uygulamasını özel entegrasyon yöntemi ile de kullanabilirler Bilgi işlem sistemlerinin entegrasyonu yöntemiyle elektronik fatura uygulamasından yararlanan mükellefler sistemleri üzerinde yapacakları bakım onarım gözden geçirme vb işlemler nedeniyle sistemlerine erişim kesintiye uğrayacak ise bu kesintiden önceki üç işgünü içerisinde hangi tarihte ve ne kadar süreyle sistemlerinin kesintiye uğrayacağını Gelir İdaresi Başkanlığı na bildirmekle yükümlüdürler Kesinti süresi hiçbir surette iki günü aşamaz Elektronik fatura ve elektronik deftere ilişkin olarak bu Tebliğ ile getirilen zorunluluklara uymayanlar hakkında Vergi Usul Kanununun ceza hükümleri tatbik olunur Mülga RG Elektronik fatura uygulamasına dâhil olma zorunluluğu getirilen mükelleflerin elektronik fatura uygulamasına kayıtlı olan diğer mükellefler tarafından gönderilen elektronik faturaları almaları zorunludur Bu zorunluluğa uymayan mükellefler hakkında Vergi Usul Kanununun ilgili hükümlerinde belirtilen fatura almayan mükelleflere tatbik olunan cezai hükümlerin uygulanacağı tabiidir Bu Tebliğ ile elektronik defter tutma zorunluluğu getirilen mükellefler kâğıt ortamında defter tutamazlar Bu mükellefler kâğıt ortamında defter tutmaları halinde hiç defter tutmamış sayılırlar Yürürlük Madde Bu Tebliğ yayımı tarihi itibarıyla yürürlüğe girer Tebliğ olunur'"
      ]
     },
     "execution_count": 101,
     "metadata": {},
     "output_type": "execute_result"
    }
   ],
   "source": [
    "' '.join(text[2626])"
   ]
  }
 ],
 "metadata": {
  "kernelspec": {
   "display_name": "Python 3 (ipykernel)",
   "language": "python",
   "name": "python3"
  },
  "language_info": {
   "codemirror_mode": {
    "name": "ipython",
    "version": 3
   },
   "file_extension": ".py",
   "mimetype": "text/x-python",
   "name": "python",
   "nbconvert_exporter": "python",
   "pygments_lexer": "ipython3",
   "version": "3.10.0"
  }
 },
 "nbformat": 4,
 "nbformat_minor": 5
}
