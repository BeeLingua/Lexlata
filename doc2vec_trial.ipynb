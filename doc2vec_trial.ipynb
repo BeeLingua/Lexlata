{
 "cells": [
  {
   "cell_type": "code",
   "execution_count": 51,
   "id": "532073df-457b-4565-b31c-97c11f7501b5",
   "metadata": {},
   "outputs": [],
   "source": [
    "from gensim.models.doc2vec import Doc2Vec, TaggedDocument\n",
    "from nltk.tokenize import word_tokenize\n",
    "from gensim.test.utils import common_texts\n",
    "import os\n",
    "from gensim.utils import tokenize\n",
    "import pandas as pd"
   ]
  },
  {
   "cell_type": "code",
   "execution_count": 12,
   "id": "b675e793-b28a-475e-aaa2-575678dc9988",
   "metadata": {},
   "outputs": [],
   "source": [
    "ds_name = 'kanunum-nlp-doc-analysis-dataset.csv'\n",
    "\n",
    "def find(name, path):\n",
    "    for root, dirs, files in os.walk(path):\n",
    "        if name in files:\n",
    "            return os.path.join(root, name)\n",
    "\n",
    "ds_fp = find(ds_name, '/')\n",
    "ds = pd.read_csv(ds_fp)\n",
    "        "
   ]
  },
  {
   "cell_type": "code",
   "execution_count": 46,
   "id": "f53a5d45-6e95-4f6e-b8b1-ee29bf60b792",
   "metadata": {},
   "outputs": [],
   "source": [
    "texts = [tokenize(i) for i in ds['data_text']]"
   ]
  },
  {
   "cell_type": "code",
   "execution_count": 53,
   "id": "9aea77ad-5c38-4145-bb80-1b64bb444817",
   "metadata": {},
   "outputs": [],
   "source": [
    "documents = [TaggedDocument(doc, [i]) for i, doc in enumerate(text)]\n",
    "model = Doc2Vec(documents, vector_size=100, window=4, min_count=1, workers=8)\n",
    "model.build_vocab(text)"
   ]
  },
  {
   "cell_type": "code",
   "execution_count": 54,
   "id": "61bcb771-8f52-4f5b-9314-e10c2d72e66b",
   "metadata": {},
   "outputs": [
    {
     "data": {
      "text/plain": [
       "array([-0.03979603, -0.05105616, -0.09016205, -0.03216669, -0.0357401 ,\n",
       "       -0.02106233, -0.01891835, -0.02037058, -0.01909629, -0.00678561,\n",
       "        0.03941293, -0.01962101, -0.0497888 ,  0.00676362,  0.00374899,\n",
       "       -0.03221083,  0.0469119 , -0.03446078,  0.01627523, -0.04163511,\n",
       "        0.01725831, -0.01718911,  0.02112415,  0.07456038,  0.05230472,\n",
       "       -0.03119218, -0.08065842, -0.00026056, -0.03479325, -0.04420269,\n",
       "        0.03220885,  0.02070053, -0.00194498, -0.01891833, -0.01070655,\n",
       "        0.04065666,  0.02464511, -0.07018027, -0.01666435, -0.10416352,\n",
       "        0.04146986,  0.01334804,  0.00786617, -0.04037825, -0.01850699,\n",
       "       -0.00253434, -0.03603238,  0.01077288,  0.03105322,  0.01374967,\n",
       "       -0.08299953, -0.00884584, -0.03967747,  0.02670524, -0.01599431,\n",
       "        0.05317447,  0.00176715, -0.01157143, -0.03320045,  0.06841496,\n",
       "        0.06224373,  0.07028311,  0.02113536,  0.03618641, -0.03033393,\n",
       "        0.02997641,  0.05091138,  0.06746165, -0.03133966,  0.04256385,\n",
       "       -0.05061397,  0.01327191, -0.00418158, -0.05365213,  0.01764833,\n",
       "        0.00333195, -0.02612781, -0.02657187, -0.03235669, -0.02015033,\n",
       "        0.01305348,  0.07911891, -0.02930549,  0.06992353,  0.00044838,\n",
       "        0.09865231,  0.02133641, -0.02772063, -0.0056172 ,  0.020661  ,\n",
       "       -0.03205909,  0.04908398, -0.05816221, -0.00823413,  0.04979074,\n",
       "        0.00033315, -0.01775771,  0.01305851,  0.06568678,  0.00689488],\n",
       "      dtype=float32)"
      ]
     },
     "execution_count": 54,
     "metadata": {},
     "output_type": "execute_result"
    }
   ],
   "source": [
    "model.infer_vector([\"system\", \"response\"])"
   ]
  },
  {
   "cell_type": "code",
   "execution_count": 47,
   "id": "ba43a22b-5a67-4bbe-b99b-e154b39fd33e",
   "metadata": {},
   "outputs": [
    {
     "name": "stderr",
     "output_type": "stream",
     "text": [
      "IOPub data rate exceeded.\n",
      "The Jupyter server will temporarily stop sending output\n",
      "to the client in order to avoid crashing it.\n",
      "To change this limit, set the config variable\n",
      "`--ServerApp.iopub_data_rate_limit`.\n",
      "\n",
      "Current values:\n",
      "ServerApp.iopub_data_rate_limit=1000000.0 (bytes/sec)\n",
      "ServerApp.rate_limit_window=3.0 (secs)\n",
      "\n"
     ]
    }
   ],
   "source": [
    "text = []\n",
    "for law in texts:\n",
    "    line = []\n",
    "    for token in law:\n",
    "        line.append(token)\n",
    "    text.append(line)"
   ]
  },
  {
   "cell_type": "code",
   "execution_count": 48,
   "id": "a5e2e2e8-1a71-4513-9a08-da3a2efd550b",
   "metadata": {},
   "outputs": [
    {
     "name": "stdout",
     "output_type": "stream",
     "text": [
      "['BaşlıkAynı', 'şahıs', 'tarafından', 'yazılıp', 'oynanan', 'tek', 'kişilik', 'stand', 'up', 'gösteriden', 'elde', 'edilen', 'kazancın', 'istisna', 'kapsamında', 'olup', 'olmayacağı', 'hk', 'Tarih', 'SayıB', 'GİB', 'GVK', 'Kapsam', 'T', 'C', 'GELİR', 'İDARESİ', 'BAŞKANLIĞI', 'İSTANBUL', 'VERGİ', 'DAİRESİ', 'BAŞKANLIĞI', 'Mükellef', 'Hizmetleri', 'Gelir', 'Vergileri', 'Grup', 'Müdürlüğü', 'Sayı', 'B', 'GİB', 'GVK', 'Konu', 'Aynı', 'şahıs', 'tarafından', 'yazılıp', 'oynanan', 'tek', 'kişilik', 'stand', 'up', 'gösteriden', 'elde', 'edilen', 'kazancın', 'istisna', 'kapsamında', 'olup', 'olmayacağı', 'İlgide', 'kayıtlı', 'özelge', 'talep', 'formu', 've', 'ekinde', 'hikâye', 've', 'senaryo', 'metni', 'tarafınızca', 'yazılan', 've', 'sahnede', 'tek', 'başına', 'icra', 'edilen', 'tiyatro', 'stand', 'up', 'gösterilerinden', 'oyunculuk', 'geliri', 'elde', 'ettiğiniz', 'belirtilerek', 'tiyatro', 'stand', 'up', 'gösterilerinden', 'elde', 'edilen', 'senaryo', 'telif', 'bedeli', 've', 'oyunculuk', 'gelirlerinin', 'Gelir', 'Vergisi', 'Kanununun', 'inci', 'maddesine', 'göre', 'istisna', 'olup', 'olmadığı', 'ile', 'istisna', 'edilmesi', 'halinde', 'aynı', 'Kanunun', 'üncü', 'maddesine', 'göre', 'tevkifata', 'tabi', 'olup', 'olmadığı', 'hususlarında', 'bilgi', 'talep', 'edildiği', 'anlaşılmakta', 'olup', 'konu', 'hakkında', 'Başkanlığımız', 'görüşleri', 'aşağıda', 'açıklanmıştır', 'sayılı', 'Gelir', 'Vergisi', 'Kanununun', 've', 'ncı', 'maddelerine', 'göre', 'her', 'türlü', 'serbest', 'meslek', 'faaliyetinden', 'doğan', 'kazançlar', 'serbest', 'meslek', 'kazancı', 've', 'serbest', 'meslek', 'faaliyetini', 'mutad', 'meslek', 'halinde', 'ifa', 'edenler', 'de', 'serbest', 'meslek', 'erbabıdır', 'Aynı', 'Kanunun', 'inci', 'maddesinde', 'Müellif', 'mütercim', 'heykeltraş', 'hattat', 'ressam', 'bestekâr', 'bilgisayar', 'programcısı', 've', 'mucitlerin', 've', 'bunların', 'kanuni', 'mirasçılarının', 'şiir', 'hikaye', 'roman', 'makale', 'bilimsel', 'araştırma', 've', 'incelemeleri', 'bilgisayar', 'yazılımı', 'röportaj', 'karikatür', 'fotoğraf', 'film', 'video', 'band', 'radyo', 've', 'televizyon', 'senaryo', 've', 'oyunu', 'gibi', 'eserlerini', 'gazete', 'dergi', 'bilgisayar', 've', 'internet', 'ortamı', 'radyo', 'televizyon', 've', 'videoda', 'yayınlamak', 'veya', 'kitap', 'CD', 'disket', 'resim', 'heykel', 've', 'nota', 'halindeki', 'eserleri', 'ile', 'ihtira', 'beratlarını', 'satmak', 'veya', 'bunlar', 'üzerindeki', 'mevcut', 'haklarını', 'devir', 've', 'temlik', 'etmek', 'veya', 'kiralamak', 'suretiyle', 'elde', 'ettikleri', 'hasılat', 'Gelir', 'Vergisinden', 'müstesnadır', 'Eserlerin', 'neşir', 'temsil', 'icra', 've', 'teşhir', 'gibi', 'suretlerle', 'değerlendirilmesi', 'karşılığında', 'alınan', 'bedel', 've', 'ücretler', 'istisnaya', 'dahildir', 'Yukarıda', 'yazılı', 'kazançların', 'arızî', 'olarak', 'elde', 'edilmesi', 'istisna', 'hükmünün', 'uygulanmasına', 'engel', 'teşkil', 'etmez', 'Serbest', 'meslek', 'kazançları', 'istisnasının', 'bu', 'Kanunun', 'üncü', 'maddesi', 'uyarınca', 'tevkif', 'suretiyle', 'ödenecek', 'vergiye', 'şümulü', 'yoktur', 'hükmü', 'yer', 'almaktadır', 'Aynı', 'Kanunun', 'üncü', 'maddesinin', 'birinci', 'fıkrasında', 'Kamu', 'idare', 've', 'müesseseleri', 'iktisadî', 'kamu', 'müesseseleri', 'sair', 'kurumlar', 'ticaret', 'şirketleri', 'iş', 'ortaklıkları', 'dernekler', 'vakıflar', 'dernek', 've', 'vakıfların', 'iktisadî', 'işletmeleri', 'kooperatifler', 'yatırım', 'fonu', 'yönetenler', 'gerçek', 'gelirlerini', 'beyan', 'etmeye', 'mecbur', 'olan', 'ticaret', 've', 'serbest', 'meslek', 'erbabı', 'zirai', 'kazançlarını', 'bilanço', 'veya', 'ziraî', 'işletme', 'hesabı', 'esasına', 'göre', 'tespit', 'eden', 'çiftçiler', 'aşağıdaki', 'bentlerde', 'sayılan', 'ödemeleri', 'avans', 'olarak', 'ödenenler', 'dahil', 'nakden', 'veya', 'hesaben', 'yaptıkları', 'sırada', 'istihkak', 'sahiplerinin', 'gelir', 'vergilerine', 'mahsuben', 'tevkifat', 'yapmaya', 'mecburdurlar', 'hükmüne', 'yer', 'verilmiş', 'olup', 'anılan', 'fıkranın', 'a', 'bendinde', 'inci', 'madde', 'kapsamına', 'giren', 'serbest', 'meslek', 'işleri', 'dolayısıyla', 'yapılan', 'ödemelerden', 'sayılı', 'BKK', 'gereğince', 'oranında', 'diğer', 'ödemelerden', 'ise', 'oranında', 'gelir', 'vergisi', 'tevkifatı', 'yapılması', 'öngörülmüştür', 'Bu', 'hüküm', 've', 'açıklamalara', 'göre', 'stand', 'up', 'faaliyetine', 'ilişkin', 'senaryoların', 'tarafınızca', 'yazılması', 'halinde', 'bu', 'senaryoların', 'sayılı', 'Fikir', 've', 'Sanat', 'Eserleri', 'Kanunu', 'kapsamında', 'eser', 'niteliği', 'taşıdığının', 'Kültür', 've', 'Turizm', 'Bakanlığından', 'alınacak', 'yazı', 'ile', 'tevsik', 'edilmesi', 'şartıyla', 'söz', 'konusu', 'çalışmaların', 'icrasına', 'ilişkin', 'olarak', 'elde', 'edeceğiniz', 'hasılata', 'münhasır', 'olmak', 'üzere', 'Gelir', 'Vergisi', 'Kanununun', 'inci', 'maddesinde', 'yer', 'alan', 'istisnadan', 'faydalanılması', 'mümkün', 'bulunmaktadır', 'Ancak', 'oyunculuğa', 'meddahlık', 'dahil', 'ilişkin', 'faaliyette', 'bulunmanız', 'halinde', 'bu', 'faaliyet', 'Gelir', 'Vergisi', 'Kanununun', 'inci', 'maddesinde', 'sayılanlar', 'arasında', 'yer', 'almadığından', 'istisnadan', 'yararlanmanız', 'mümkün', 'bulunmamaktadır', 'Diğer', 'taraftan', 'söz', 'konusu', 'stand', 'up', 'faaliyetine', 'ilişkin', 'senaryolara', 'ait', 'çalışmaların', 'istisna', 'kapsamında', 'değerlendirilmesi', 've', 'bu', 'çalışmaların', 'Gelir', 'Vergisi', 'Kanununun', 'üncü', 'maddesinin', 'birinci', 'fıkrasına', 'istinaden', 'tevkifat', 'yapmak', 'mecburiyetinde', 'olanlarca', 'satın', 'alınması', 'halinde', 'tarafınıza', 'yapılacak', 'ödemelerden', 'gelir', 'vergisi', 'tevkifatı', 'yapılacağı', 've', 'istisna', 'kapsamında', 'kalan', 'bu', 'kazançlarınız', 'için', 'yıllık', 'beyanname', 'verilmeyeceği', 'diğer', 'kazançlar', 'için', 'beyanname', 'verilmesi', 'durumunda', 'ise', 'bu', 'kazançlarınızın', 'beyannameye', 'dâhil', 'edilmeyeceği', 'tabiidir', 'Ancak', 'bir', 'hizmet', 'sözleşmesine', 'bağlı', 'olmaksızın', 'kendi', 'nam', 've', 'hesabınıza', 'yapacağınız', 'oyunculuk', 'faaliyetiniz', 'Gelir', 'Vergisi', 'Kanununun', 'inci', 'maddesi', 'uyarınca', 'serbest', 'meslek', 'kazancı', 'olmakla', 'birlikte', 'Kanunun', 'inci', 'maddesinde', 'yazılı', 'eser', 'grupları', 'arasında', 'yer', 'almayan', 'bu', 'işler', 'nedeniyle', 'elde', 'ettiğiniz', 'serbest', 'meslek', 'kazancının', 'gerçek', 'usulde', 'vergilendirilmesi', 'gerekmektedir', 'Öte', 'yandan', 'serbest', 'meslek', 'erbabının', 'sayılı', 'Vergi', 'Usul', 'Kanununun', 'üncü', 'maddesi', 'uyarınca', 'işe', 'başlamayı', 'vergi', 'dairesine', 'bildirme', 've', 'uncu', 'maddeleri', 'uyarınca', 'serbest', 'meslek', 'kazanç', 'defteri', 'tutma', 'ncı', 'maddesi', 'uyarınca', 'da', 'mesleki', 'faaliyetlerine', 'ilişkin', 'her', 'türlü', 'tahsilâtları', 'için', 'serbest', 'meslek', 'makbuzu', 'düzenleme', 'mecburiyeti', 'bulunmaktadır', 'Bu', 'nedenle', 'serbest', 'meslek', 'faaliyetini', 'mutad', 'meslek', 'halinde', 'ifa', 'edenlerin', 'Vergi', 'Usul', 'Kanununun', 'yukarıda', 'belirtilen', 'hükümlerinde', 'yer', 'alan', 'yükümlülükleri', 'yerine', 'getirmesi', 'gerekmektedir', 'Ancak', 'konuya', 'ilişkin', 'olarak', 'Seri', 'No', 'lu', 'Gelir', 'Vergisi', 'Genel', 'Tebliğinde', 'münhasıran', 'Gelir', 'Vergisi', 'Kanununun', 'inci', 'maddesinde', 'belirtilen', 'türden', 'faaliyetlerde', 'bulunan', 've', 'eserlerini', 'sadece', 'aynı', 'Kanunun', 'üncü', 'maddesinde', 'belirtilen', 'kişi', 'veya', 'kurumlara', 'teslim', 'eden', 'serbest', 'meslek', 'erbabından', 'isteyenlerin', 'defter', 'tasdik', 'ettirme', 've', 'tutma', 'ile', 'belge', 'düzenleme', 'zorunluluklarının', 'kaldırıldığı', 'açıklanmıştır', 'Bu', 'çerçevede', 'söz', 'konusu', 'faaliyetinizi', 'mutad', 'meslek', 'halinde', 'ifa', 'etmeniz', 've', 'istisna', 'kapsamındaki', 'eserlerinizi', 'Gelir', 'Vergisi', 'Kanununun', 'üncü', 'maddesinde', 'sayılanlar', 'dışındakilere', 'de', 'satmanız', 'halinde', 'Vergi', 'Usul', 'Kanununun', 've', 'ncı', 'maddeleri', 'uyarınca', 'işe', 'başlama', 'bildiriminde', 'bulunma', 'serbest', 'meslek', 'kazanç', 'defteri', 'tutma', 've', 'serbest', 'meslek', 'makbuzu', 'düzenleme', 'mecburiyetiniz', 'bulunmaktadır', 'Bilgi', 'edinilmesini', 'rica', 'ederim', 'Bu', 'Özelge', 'sayılı', 'Vergi', 'Usul', 'Kanununun', 'maddesine', 'dayanılarak', 'verilmiştir', 'İnceleme', 'yargı', 'ya', 'da', 'uzlaşmada', 'olduğu', 'halde', 'bu', 'konuya', 'ilişkin', 'olarak', 'yanlış', 'bilgi', 'verilmiş', 'ise', 'bu', 'özelge', 'geçersizdir', 'Talebiniz', 'üzerine', 'tayin', 'edilmiş', 'olan', 'bu', 'özelgeye', 'uygun', 'işlem', 'yapmanız', 'hâlinde', 'bu', 'fiilleriniz', 'dolayısıyla', 'vergi', 'tarh', 'edilmesi', 'icap', 'ederse', 'tarafınıza', 'vergi', 'cezası', 'kesilmeyecek', 've', 'tarh', 'edilen', 'vergi', 'için', 'gecikme', 'faizi', 'hesaplanmayacaktır']\n"
     ]
    }
   ],
   "source": []
  },
  {
   "cell_type": "code",
   "execution_count": null,
   "id": "cf275eb2-412c-481b-892f-70b427d700e4",
   "metadata": {},
   "outputs": [],
   "source": []
  }
 ],
 "metadata": {
  "kernelspec": {
   "display_name": "Python 3 (ipykernel)",
   "language": "python",
   "name": "python3"
  },
  "language_info": {
   "codemirror_mode": {
    "name": "ipython",
    "version": 3
   },
   "file_extension": ".py",
   "mimetype": "text/x-python",
   "name": "python",
   "nbconvert_exporter": "python",
   "pygments_lexer": "ipython3",
   "version": "3.10.0"
  }
 },
 "nbformat": 4,
 "nbformat_minor": 5
}
