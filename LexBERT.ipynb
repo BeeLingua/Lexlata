{
 "cells": [
  {
   "cell_type": "code",
   "execution_count": null,
   "id": "f91bc721",
   "metadata": {},
   "outputs": [],
   "source": [
    "import torch\n",
    "\n",
    "device = \"cuda:0\" if torch.cuda.is_available() else \"cpu\"\n",
    "device"
   ]
  },
  {
   "cell_type": "code",
   "execution_count": null,
   "id": "f4749e8e-58fe-404a-a46d-d6663a7c695a",
   "metadata": {},
   "outputs": [],
   "source": [
    "import os\n",
    "import pandas as pd\n",
    "import numpy as np\n",
    "from torch import nn\n",
    "from transformers import AutoTokenizer, AutoModelForPreTraining, AutoModelForMaskedLM, pipeline, Trainer, DataCollatorForLanguageModeling, TrainingArguments\n",
    "from tqdm.auto import tqdm\n",
    "from datasets import load_dataset, Dataset\n",
    "import datasets\n",
    "\n",
    "WORKING_DIR = r'C:\\Users\\Furkan\\Desktop\\study\\nlp\\teknofest\\notebooks'\n",
    "\n",
    "os.chdir(WORKING_DIR)\n",
    "\n",
    "ds = load_dataset('csv', data_files='data_text.csv', split='train')"
   ]
  },
  {
   "cell_type": "code",
   "execution_count": null,
   "id": "52d8f4e9-5edb-4b78-ba7d-ab285fd5a2a0",
   "metadata": {
    "tags": []
   },
   "outputs": [],
   "source": [
    "tokenizer = AutoTokenizer.from_pretrained('dbmdz/bert-base-turkish-uncased')\n",
    "model = AutoModelForMaskedLM.from_pretrained('dbmdz/bert-base-turkish-uncased', output_hidden_states=True).to(device)"
   ]
  },
  {
   "cell_type": "code",
   "execution_count": null,
   "id": "a89f9649-3db0-4061-a599-2bca7fd79da4",
   "metadata": {
    "jupyter": {
     "outputs_hidden": true
    },
    "tags": []
   },
   "outputs": [],
   "source": [
    "def encode(examples):\n",
    "    return tokenizer(examples['data_text'], truncation=True, padding='max_length')\n",
    "\n",
    "ds = ds.map(encode, batched=True)"
   ]
  },
  {
   "cell_type": "code",
   "execution_count": null,
   "id": "8854f5fa",
   "metadata": {
    "scrolled": false
   },
   "outputs": [],
   "source": [
    "os.environ[\"WANDB_DISABLED\"] = \"true\"\n",
    "args = TrainingArguments(output_dir=\"tmp_trainer\", do_train=True, do_eval=False, learning_rate=1e-05, per_device_train_batch_size=8)\n",
    "\n",
    "collator = DataCollatorForLanguageModeling(tokenizer=tokenizer)\n",
    "\n",
    "trainer = Trainer(model=model, args=args, tokenizer=tokenizer, train_dataset=ds, data_collator=collator)\n",
    "trainer.train()"
   ]
  },
  {
   "cell_type": "code",
   "execution_count": null,
   "id": "4db4f90a",
   "metadata": {},
   "outputs": [],
   "source": [
    "trainer.save_model(\"trainer_output\")"
   ]
  }
 ],
 "metadata": {
  "kernelspec": {
   "display_name": "Python 3 (ipykernel)",
   "language": "python",
   "name": "python3"
  },
  "language_info": {
   "codemirror_mode": {
    "name": "ipython",
    "version": 3
   },
   "file_extension": ".py",
   "mimetype": "text/x-python",
   "name": "python",
   "nbconvert_exporter": "python",
   "pygments_lexer": "ipython3",
   "version": "3.9.7"
  }
 },
 "nbformat": 4,
 "nbformat_minor": 5
}
