{
 "cells": [
  {
   "cell_type": "code",
   "execution_count": 4,
   "id": "339b47b2",
   "metadata": {},
   "outputs": [],
   "source": [
    "import pandas as pd\n",
    "import string\n",
    "import json\n",
    "\n",
    "DATASET_PATH = r\"data.csv\"\n",
    "dataDF = pd.read_csv(DATASET_PATH)\n",
    "\n",
    "word2Freq = {}\n",
    "charsToRemove = \".,'\\\"‘’“”„‟!?#$%&()*+-–/:;<=>@[/]^_`{|}~\\n\"\n",
    "for index, row in dataDF.iterrows():\n",
    "    text = row.loc[\"data_text\"]\n",
    "    text = text.lower()\n",
    "    text = text.translate(str.maketrans(charsToRemove, ' ' * len(charsToRemove)))\n",
    "    for word in text.split(' '):\n",
    "        word = word.strip()\n",
    "        if len(word) == 0:\n",
    "            continue\n",
    "        \n",
    "        word2Freq[word] = word2Freq.get(word, 0) + 1\n",
    "        \n",
    "JSON_OUT_PATH = r\"word2Freq.json\"\n",
    "with open(JSON_OUT_PATH, 'w', encoding=\"utf8\") as outFile:\n",
    "    json.dump(word2Freq, outFile, ensure_ascii=False, indent=4)"
   ]
  }
 ],
 "metadata": {
  "kernelspec": {
   "display_name": "Python 3 (ipykernel)",
   "language": "python",
   "name": "python3"
  },
  "language_info": {
   "codemirror_mode": {
    "name": "ipython",
    "version": 3
   },
   "file_extension": ".py",
   "mimetype": "text/x-python",
   "name": "python",
   "nbconvert_exporter": "python",
   "pygments_lexer": "ipython3",
   "version": "3.9.7"
  }
 },
 "nbformat": 4,
 "nbformat_minor": 5
}
