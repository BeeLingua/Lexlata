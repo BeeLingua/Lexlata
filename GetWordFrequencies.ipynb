{
 "cells": [
  {
   "cell_type": "code",
   "execution_count": 10,
   "id": "339b47b2",
   "metadata": {},
   "outputs": [],
   "source": [
    "import pandas as pd\n",
    "import string\n",
    "import json\n",
    "\n",
    "DATASET_PATH = r\"data.csv\"\n",
    "dataDF = pd.read_csv(DATASET_PATH)\n",
    "\n",
    "word2TotalFreq = {}  # key: word\n",
    "word2DocFreq = {}  # key: word\n",
    "\n",
    "charsToRemove = \".,'\\\"‘’“”„‟!?#$%&()*+-–/:;<=>@[/]^_`{|}~\\n\"\n",
    "for index, row in dataDF.iterrows():\n",
    "    text = row.loc[\"data_text\"]\n",
    "    text = text.lower()\n",
    "    text = text.translate(str.maketrans(charsToRemove, ' ' * len(charsToRemove)))\n",
    "    \n",
    "    words = text.split(' ')\n",
    "    for word in words:\n",
    "        word = word.strip()\n",
    "        if len(word) == 0:\n",
    "            continue\n",
    "        \n",
    "        word2TotalFreq[word] = word2TotalFreq.get(word, 0) + 1\n",
    "    \n",
    "    for distinctWord in set(words):\n",
    "        word = distinctWord.strip()\n",
    "        if len(word) == 0:\n",
    "            continue\n",
    "            \n",
    "        word2DocFreq[word] = word2DocFreq.get(word, 0) + 1\n",
    "        \n",
    "JSON_TOTALFREQ_OUT_PATH = r\"word2TotalFreq.json\"\n",
    "with open(JSON_TOTALFREQ_OUT_PATH, 'w', encoding=\"utf8\") as outFile:\n",
    "    json.dump(word2TotalFreq, outFile, ensure_ascii=False, indent=4)\n",
    "    \n",
    "JSON_DF_OUT_PATH = r\"word2DocFreq.json\"\n",
    "with open(JSON_DF_OUT_PATH, 'w', encoding=\"utf8\") as outFile:\n",
    "    json.dump(word2DocFreq, outFile, ensure_ascii=False, indent=4)"
   ]
  }
 ],
 "metadata": {
  "kernelspec": {
   "display_name": "Python 3 (ipykernel)",
   "language": "python",
   "name": "python3"
  },
  "language_info": {
   "codemirror_mode": {
    "name": "ipython",
    "version": 3
   },
   "file_extension": ".py",
   "mimetype": "text/x-python",
   "name": "python",
   "nbconvert_exporter": "python",
   "pygments_lexer": "ipython3",
   "version": "3.9.7"
  }
 },
 "nbformat": 4,
 "nbformat_minor": 5
}
