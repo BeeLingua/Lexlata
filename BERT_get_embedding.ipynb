{
  "nbformat": 4,
  "nbformat_minor": 0,
  "metadata": {
    "colab": {
      "name": "Lexlata.ipynb",
      "provenance": [],
      "collapsed_sections": []
    },
    "kernelspec": {
      "name": "python3",
      "display_name": "Python 3"
    },
    "language_info": {
      "name": "python"
    }
  },
  "cells": [
    {
      "cell_type": "code",
      "source": [
        "!pip install transformers"
      ],
      "metadata": {
        "colab": {
          "base_uri": "https://localhost:8080/"
        },
        "id": "HRaR6tIUnxU-",
        "outputId": "5060207a-e268-407d-a368-8327266e2841"
      },
      "execution_count": null,
      "outputs": [
        {
          "output_type": "stream",
          "name": "stdout",
          "text": [
            "Looking in indexes: https://pypi.org/simple, https://us-python.pkg.dev/colab-wheels/public/simple/\n",
            "Collecting transformers\n",
            "  Downloading transformers-4.20.1-py3-none-any.whl (4.4 MB)\n",
            "\u001b[K     |████████████████████████████████| 4.4 MB 7.3 MB/s \n",
            "\u001b[?25hRequirement already satisfied: requests in /usr/local/lib/python3.7/dist-packages (from transformers) (2.23.0)\n",
            "Requirement already satisfied: importlib-metadata in /usr/local/lib/python3.7/dist-packages (from transformers) (4.12.0)\n",
            "Collecting tokenizers!=0.11.3,<0.13,>=0.11.1\n",
            "  Downloading tokenizers-0.12.1-cp37-cp37m-manylinux_2_12_x86_64.manylinux2010_x86_64.whl (6.6 MB)\n",
            "\u001b[K     |████████████████████████████████| 6.6 MB 57.4 MB/s \n",
            "\u001b[?25hRequirement already satisfied: filelock in /usr/local/lib/python3.7/dist-packages (from transformers) (3.7.1)\n",
            "Collecting huggingface-hub<1.0,>=0.1.0\n",
            "  Downloading huggingface_hub-0.8.1-py3-none-any.whl (101 kB)\n",
            "\u001b[K     |████████████████████████████████| 101 kB 5.2 MB/s \n",
            "\u001b[?25hRequirement already satisfied: tqdm>=4.27 in /usr/local/lib/python3.7/dist-packages (from transformers) (4.64.0)\n",
            "Requirement already satisfied: packaging>=20.0 in /usr/local/lib/python3.7/dist-packages (from transformers) (21.3)\n",
            "Collecting pyyaml>=5.1\n",
            "  Downloading PyYAML-6.0-cp37-cp37m-manylinux_2_5_x86_64.manylinux1_x86_64.manylinux_2_12_x86_64.manylinux2010_x86_64.whl (596 kB)\n",
            "\u001b[K     |████████████████████████████████| 596 kB 48.3 MB/s \n",
            "\u001b[?25hRequirement already satisfied: numpy>=1.17 in /usr/local/lib/python3.7/dist-packages (from transformers) (1.21.6)\n",
            "Requirement already satisfied: regex!=2019.12.17 in /usr/local/lib/python3.7/dist-packages (from transformers) (2022.6.2)\n",
            "Requirement already satisfied: typing-extensions>=3.7.4.3 in /usr/local/lib/python3.7/dist-packages (from huggingface-hub<1.0,>=0.1.0->transformers) (4.1.1)\n",
            "Requirement already satisfied: pyparsing!=3.0.5,>=2.0.2 in /usr/local/lib/python3.7/dist-packages (from packaging>=20.0->transformers) (3.0.9)\n",
            "Requirement already satisfied: zipp>=0.5 in /usr/local/lib/python3.7/dist-packages (from importlib-metadata->transformers) (3.8.1)\n",
            "Requirement already satisfied: idna<3,>=2.5 in /usr/local/lib/python3.7/dist-packages (from requests->transformers) (2.10)\n",
            "Requirement already satisfied: chardet<4,>=3.0.2 in /usr/local/lib/python3.7/dist-packages (from requests->transformers) (3.0.4)\n",
            "Requirement already satisfied: certifi>=2017.4.17 in /usr/local/lib/python3.7/dist-packages (from requests->transformers) (2022.6.15)\n",
            "Requirement already satisfied: urllib3!=1.25.0,!=1.25.1,<1.26,>=1.21.1 in /usr/local/lib/python3.7/dist-packages (from requests->transformers) (1.24.3)\n",
            "Installing collected packages: pyyaml, tokenizers, huggingface-hub, transformers\n",
            "  Attempting uninstall: pyyaml\n",
            "    Found existing installation: PyYAML 3.13\n",
            "    Uninstalling PyYAML-3.13:\n",
            "      Successfully uninstalled PyYAML-3.13\n",
            "Successfully installed huggingface-hub-0.8.1 pyyaml-6.0 tokenizers-0.12.1 transformers-4.20.1\n"
          ]
        }
      ]
    },
    {
      "cell_type": "code",
      "source": [
        "from transformers import AutoTokenizer, AutoModelForPreTraining\n",
        "import numpy as np\n",
        "import torch\n",
        "\n",
        "EMBEDDING_VECTOR_SHAPE = (768, 1)\n",
        "\n",
        "tokenizer = AutoTokenizer.from_pretrained(\"dbmdz/bert-base-turkish-uncased\")\n",
        "model = AutoModelForPreTraining.from_pretrained(\"dbmdz/bert-base-turkish-uncased\", output_hidden_states=True)\n",
        "\n",
        "def getPhraseEmbedding(sentence, phrase):\n",
        "    sentenceTokens = tokenizer.encode(sentence)  # Cümlenin BERT'e verilecek token id listesine dönüştürülmesi.\n",
        "\n",
        "    wordEmbeddingList = model(torch.tensor([sentenceTokens]))[2][0][0]  # Modelin çalıştırılıp hidden state'inin (embedding'lerin elde edileceği yer) elde edilmesi.\n",
        "\n",
        "    phraseTokens = tokenizer.encode(phrase)[1:-1]  # Embedding'i istenen phrase'in token id listesine dönüştürülmesi.\n",
        "\n",
        "    ############################\n",
        "    # Phrase start ve end indexlerinin belirlenmesi\n",
        "    for sTokenIndex in range(len(sentenceTokens)):\n",
        "        if sentenceTokens[sTokenIndex] == phraseTokens[0]:\n",
        "            phraseStartIndex = sTokenIndex  #Inclusive\n",
        "    for sTokenIndex in range(phraseStartIndex + 1, len(sentenceTokens)):\n",
        "        phraseIndex = 1\n",
        "        if phraseIndex >= len(phraseTokens) or sentenceTokens[sTokenIndex] != phraseTokens[phraseIndex]:\n",
        "            phraseEndIndex = sTokenIndex  #Exclusive\n",
        "        phraseIndex += 1\n",
        "    ############################\n",
        "\n",
        "    phraseMeanEmbedding = np.zeros(EMBEDDING_VECTOR_SHAPE)  # Phrase'deki her bir kelime için mean embedding'i tutacak olan vektör.\n",
        "    for sentenceIndex in range(phraseStartIndex, phraseEndIndex):\n",
        "        phraseMeanEmbedding = np.add(phraseMeanEmbedding, wordEmbeddingList[sentenceIndex].detach().numpy())\n",
        "    phraseMeanEmbedding /= (phraseEndIndex - phraseStartIndex + 1)  # Phrase mean embedding elde edilmesi.\n",
        "    \n",
        "    return phraseMeanEmbedding[0]\n",
        "\n",
        "\n",
        "sentence_piece_start = \"Hava bugün \"\n",
        "sentence_piece_end = \".\"\n",
        "word_1 = \"berbat\"\n",
        "word_2 = \"muhteşem\"\n",
        "print(np.dot(getPhraseEmbedding(sentence_piece_start + word_1 + sentence_piece_end, word_1), getPhraseEmbedding(sentence_piece_start + word_2 + sentence_piece_end, word_2)))"
      ],
      "metadata": {
        "id": "Ie8ycL_bm9Bp",
        "colab": {
          "base_uri": "https://localhost:8080/"
        },
        "outputId": "dbff57dc-54b9-41f8-a38e-fc11cb74570e"
      },
      "execution_count": 11,
      "outputs": [
        {
          "output_type": "stream",
          "name": "stdout",
          "text": [
            "30.58405216649614\n"
          ]
        }
      ]
    }
  ]
}