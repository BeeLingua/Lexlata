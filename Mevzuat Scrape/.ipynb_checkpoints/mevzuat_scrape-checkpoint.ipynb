{
 "cells": [
  {
   "cell_type": "code",
   "execution_count": 1,
   "id": "3c8761a4-edbe-49a5-afc7-2c4185666ecd",
   "metadata": {
    "tags": []
   },
   "outputs": [
    {
     "name": "stderr",
     "output_type": "stream",
     "text": [
      "/var/folders/v0/w3_rg1yn73q9cjs3q6kf4v400000gn/T/ipykernel_60827/2129291293.py:17: DeprecationWarning: executable_path has been deprecated, please pass in a Service object\n",
      "  driver = webdriver.Chrome(chrome_options=options, executable_path=\"/Users/emircan/Developer/chromedriver\")\n",
      "/var/folders/v0/w3_rg1yn73q9cjs3q6kf4v400000gn/T/ipykernel_60827/2129291293.py:17: DeprecationWarning: use options instead of chrome_options\n",
      "  driver = webdriver.Chrome(chrome_options=options, executable_path=\"/Users/emircan/Developer/chromedriver\")\n"
     ]
    }
   ],
   "source": [
    "from selenium import webdriver\n",
    "from selenium.webdriver import ActionChains\n",
    "from selenium.webdriver.common.by import By\n",
    "from selenium.webdriver.chrome.options import Options\n",
    "from selenium.webdriver.support.ui import WebDriverWait\n",
    "from selenium.webdriver.support import expected_conditions as EC\n",
    "from selenium.common.exceptions import TimeoutException\n",
    "from time import sleep\n",
    "\n",
    "# options to open driver\n",
    "options = Options()\n",
    "options.add_argument('start-maximized')\n",
    "options.add_argument('disable-infobars')\n",
    "options.add_argument('--disable-extensions')\n",
    "\n",
    "# create web driver element\n",
    "driver = webdriver.Chrome(chrome_options=options, executable_path=\"/Users/emircan/Developer/chromedriver\")\n",
    "URL = 'https://www.mevzuat.gov.tr/#kanunlar'\n",
    "driver.get(URL)\n",
    "\n",
    "# click on 'ARA' button\n",
    "element = driver.find_element(By.ID, 'btnSearch')\n",
    "action = ActionChains(driver)\n",
    "action.click(on_element=element)\n",
    "action.perform()\n",
    "\n",
    "# open website\n",
    "sleep(4)"
   ]
  },
  {
   "cell_type": "code",
   "execution_count": 21,
   "id": "49ebcb6c-27ef-45e1-a196-0c4696d8a4db",
   "metadata": {},
   "outputs": [
    {
     "data": {
      "text/plain": [
       "''"
      ]
     },
     "execution_count": 21,
     "metadata": {},
     "output_type": "execute_result"
    }
   ],
   "source": [
    "# deneme için sabit kanun seçtim aşağıda hepsini dönen loop var\n",
    "content_xpath = f'//*[@id=\"DataTables_Table_0\"]/tbody/tr[{1}]/td[2]/a'\n",
    "link = driver.find_element(By.XPATH, content_xpath)\n",
    "href = link.get_attribute('href')\n",
    "driver.get(href)\n",
    "# linke gidiyor, driver dokumanın olduğu sayfada"
   ]
  },
  {
   "cell_type": "code",
   "execution_count": 54,
   "id": "4afa7d50-07fe-4a7a-b9e3-ce05f09408ee",
   "metadata": {},
   "outputs": [
    {
     "data": {
      "text/plain": [
       "'DEVLET MEMURLARI KANUNU İLE BAZI KANUNLARDA VE 375 SAYILI KANUN HÜKMÜNDE KARARNAMEDE DEĞİŞİKLİK YAPILMASINA DAİR KANUN'"
      ]
     },
     "execution_count": 54,
     "metadata": {},
     "output_type": "execute_result"
    }
   ],
   "source": [
    "# linkte frame değiştiriyor\n",
    "iframe = driver.find_element(By.TAG_NAME, 'iframe')\n",
    "driver.switch_to.frame(iframe)\n",
    "x = driver.find_element(By.XPATH, '/html/body/div/p[1]')\n",
    "x.text # bütün textleri find_element ile bulabilirsin artık"
   ]
  },
  {
   "cell_type": "code",
   "execution_count": null,
   "id": "a72719fc-1fc6-4139-9ce8-ac7bef574427",
   "metadata": {},
   "outputs": [],
   "source": [
    "# wait object for page zapping\n",
    "wait = WebDriverWait(driver, 10)\n",
    "\n",
    "max_page = 2 # change\n",
    "page_num = 1\n",
    "file = open('/Users/emircan/Desktop/Lexlata/Mevzuat Scrape/mevzuat.txt', 'w')\n",
    "file.close()\n",
    "while(True):\n",
    "    try:\n",
    "        with open('/Users/emircan/Desktop/Lexlata/Mevzuat Scrape/mevzuat.txt', 'a') as file:\n",
    "            sleep(1)\n",
    "            page_link = driver.find_element(By.LINK_TEXT, f'{page_num}')\n",
    "            page_link.click()\n",
    "            \n",
    "            \n",
    "            table = driver.find_element(By.XPATH, '//*[@id=\"DataTables_Table_0\"]/tbody')\n",
    "            print(page_num)\n",
    "            page_num += 1\n",
    "            # write data to file\n",
    "            for index, data in enumerate(table.text.split('\\n')):\n",
    "                file.write(data + ',')\n",
    "                if (index+1) % 3 == 0:\n",
    "                    file.write('\\n')\n",
    "            if page_num == max_page:\n",
    "                break\n",
    "    except Exception as e:\n",
    "        file.close()"
   ]
  },
  {
   "cell_type": "code",
   "execution_count": null,
   "id": "3b5b513c-bcb6-4abf-ab3d-542336229e39",
   "metadata": {},
   "outputs": [],
   "source": []
  }
 ],
 "metadata": {
  "kernelspec": {
   "display_name": "Python 3 (ipykernel)",
   "language": "python",
   "name": "python3"
  },
  "language_info": {
   "codemirror_mode": {
    "name": "ipython",
    "version": 3
   },
   "file_extension": ".py",
   "mimetype": "text/x-python",
   "name": "python",
   "nbconvert_exporter": "python",
   "pygments_lexer": "ipython3",
   "version": "3.10.0"
  }
 },
 "nbformat": 4,
 "nbformat_minor": 5
}
