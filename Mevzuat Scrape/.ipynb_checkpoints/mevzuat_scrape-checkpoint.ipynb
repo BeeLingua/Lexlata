{
 "cells": [
  {
   "cell_type": "code",
   "execution_count": 8,
   "id": "3c8761a4-edbe-49a5-afc7-2c4185666ecd",
   "metadata": {},
   "outputs": [
    {
     "name": "stderr",
     "output_type": "stream",
     "text": [
      "/var/folders/v0/w3_rg1yn73q9cjs3q6kf4v400000gn/T/ipykernel_24783/3606872234.py:5: DeprecationWarning: executable_path has been deprecated, please pass in a Service object\n",
      "  driver = webdriver.Chrome(executable_path=\"/Users/emircan/Developer/chromedriver\")\n"
     ]
    }
   ],
   "source": [
    "from selenium import webdriver\n",
    "from selenium.webdriver import ActionChains\n",
    "from selenium.webdriver.common.by import By\n",
    "\n",
    "driver = webdriver.Chrome(executable_path=\"/Users/emircan/Developer/chromedriver\")\n",
    "URL = 'https://www.mevzuat.gov.tr/#kanunlar'\n",
    "driver.get(URL)\n"
   ]
  },
  {
   "cell_type": "code",
   "execution_count": 9,
   "id": "c6b3af02-c879-4bed-ba30-3930e7ac1881",
   "metadata": {},
   "outputs": [],
   "source": [
    "element = driver.find_element(By.ID, 'btnSearch')\n",
    "action = ActionChains(driver)\n",
    "action.click(on_element=element)\n",
    "action.perform()\n"
   ]
  },
  {
   "cell_type": "code",
   "execution_count": 10,
   "id": "15aa2ca4-1412-4894-8d3b-10b2fc171768",
   "metadata": {},
   "outputs": [],
   "source": [
    "table = driver.find_element(By.XPATH, '//*[@id=\"DataTables_Table_0\"]/tbody')\n"
   ]
  },
  {
   "cell_type": "code",
   "execution_count": 14,
   "id": "8a14a4c6-2700-4b91-bda3-ea13a777c5d0",
   "metadata": {},
   "outputs": [],
   "source": [
    "with open('/Users/emircan/Desktop/Mevzuat Scrape/mevzuat.txt', 'w') as f:\n",
    "    for index, data in enumerate(table.text.split('\\n')):\n",
    "        f.write(data + ',')\n",
    "        if (index+1) % 3 == 0:\n",
    "            f.write('\\n')"
   ]
  },
  {
   "cell_type": "code",
   "execution_count": 13,
   "id": "6ff60619-cee9-4405-b02b-9a5e0a5a2f8c",
   "metadata": {},
   "outputs": [
    {
     "name": "stdout",
     "output_type": "stream",
     "text": [
      "7417\n",
      "DEVLET MEMURLARI KANUNU İLE BAZI KANUNLARDA VE 375 SAYILI KANUN HÜKMÜNDE KARARNAMEDE DEĞİŞİKLİK YAPILMASINA DAİR KANUN\n",
      "Kanunlar Tertip: 5 Resmî Gazete Tarihi: 05.07.2022 Sayısı: 31887 Kabul Tarihi: 01.07.2022\n",
      "7412\n",
      "İSTANBUL FİNANS MERKEZİ KANUNU\n",
      "Kanunlar Tertip: 5 Resmî Gazete Tarihi: 28.06.2022 Sayısı: 31880 Kabul Tarihi: 22.06.2022\n",
      "7405\n",
      "SPOR KULÜPLERİ VE SPOR FEDERASYONLARI KANUNU\n",
      "Kanunlar Tertip: 5 Resmî Gazete Tarihi: 26.04.2022 Sayısı: 31821 Kabul Tarihi: 22.04.2022\n",
      "7381\n",
      "NÜKLEER DÜZENLEME KANUNU\n",
      "Kanunlar Tertip: 5 Resmî Gazete Tarihi: 08.03.2022 Sayısı: 31772 Kabul Tarihi: 05.03.2022\n",
      "7354\n",
      "ÖĞRETMENLİK MESLEK KANUNU\n",
      "Kanunlar Tertip: 5 Resmî Gazete Tarihi: 14.02.2022 Sayısı: 31750 Kabul Tarihi: 03.02.2022\n",
      "7330\n",
      "MAKİNE VE KİMYA ENDÜSTRİSİ ANONİM ŞİRKETİ HAKKINDA KANUN\n",
      "Kanunlar Tertip: 5 Resmî Gazete Tarihi: 03.07.2021 Sayısı: 31530 Kabul Tarihi: 30.06.2021\n",
      "7326\n",
      "BAZI ALACAKLARIN YENİDEN YAPILANDIRILMASI İLE BAZI KANUNLARDA DEĞİŞİKLİK YAPILMASINA İLİŞKİN KANUN\n",
      "Kanunlar Tertip: 5 Resmî Gazete Tarihi: 09.06.2021 Sayısı: 31506 Kabul Tarihi: 03.06.2021\n",
      "7315\n",
      "GÜVENLİK SORUŞTURMASI VE ARŞİV ARAŞTIRMASI KANUNU\n",
      "Kanunlar Tertip: 5 Resmî Gazete Tarihi: 17.04.2021 Sayısı: 31455 Kabul Tarihi: 07.04.2021\n",
      "7262\n",
      "KİTLE İMHA SİLAHLARININ YAYILMASININ FİNANSMANININ ÖNLENMESİNE İLİŞKİN KANUN\n",
      "Kanunlar Tertip: 5 Resmî Gazete Tarihi: 31.12.2020 Sayısı: 31351 (Mükerrer) Kabul Tarihi: 27.12.2020\n",
      "7261\n",
      "TÜRKİYE ÇEVRE AJANSININ KURULMASI İLE BAZI KANUNLARDA DEĞİŞİKLİK YAPILMASINA DAİR KANUN\n",
      "Kanunlar Tertip: 5 Resmî Gazete Tarihi: 30.12.2020 Sayısı: 31350 Kabul Tarihi: 24.12.2020\n"
     ]
    }
   ],
   "source": [
    "for index, data in enumerate(table.text.split('\\n')):\n",
    "    print(data)"
   ]
  },
  {
   "cell_type": "code",
   "execution_count": null,
   "id": "4eaec71c-4f84-475a-9d60-4e5560fd1053",
   "metadata": {},
   "outputs": [],
   "source": []
  }
 ],
 "metadata": {
  "kernelspec": {
   "display_name": "Python 3 (ipykernel)",
   "language": "python",
   "name": "python3"
  },
  "language_info": {
   "codemirror_mode": {
    "name": "ipython",
    "version": 3
   },
   "file_extension": ".py",
   "mimetype": "text/x-python",
   "name": "python",
   "nbconvert_exporter": "python",
   "pygments_lexer": "ipython3",
   "version": "3.10.0"
  }
 },
 "nbformat": 4,
 "nbformat_minor": 5
}
