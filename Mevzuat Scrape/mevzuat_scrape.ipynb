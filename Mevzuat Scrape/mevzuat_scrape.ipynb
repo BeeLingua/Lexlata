{
 "cells": [
  {
   "cell_type": "code",
   "execution_count": 239,
   "id": "3c8761a4-edbe-49a5-afc7-2c4185666ecd",
   "metadata": {},
   "outputs": [
    {
     "name": "stderr",
     "output_type": "stream",
     "text": [
      "/var/folders/v0/w3_rg1yn73q9cjs3q6kf4v400000gn/T/ipykernel_29960/3598471303.py:17: DeprecationWarning: executable_path has been deprecated, please pass in a Service object\n",
      "  driver = webdriver.Chrome(chrome_options=options, executable_path=\"/Users/emircan/Developer/chromedriver\")\n",
      "/var/folders/v0/w3_rg1yn73q9cjs3q6kf4v400000gn/T/ipykernel_29960/3598471303.py:17: DeprecationWarning: use options instead of chrome_options\n",
      "  driver = webdriver.Chrome(chrome_options=options, executable_path=\"/Users/emircan/Developer/chromedriver\")\n"
     ]
    }
   ],
   "source": [
    "from selenium import webdriver\n",
    "from selenium.webdriver import ActionChains\n",
    "from selenium.webdriver.common.by import By\n",
    "from selenium.webdriver.chrome.options import Options\n",
    "from selenium.webdriver.support.ui import WebDriverWait\n",
    "from selenium.webdriver.support import expected_conditions as EC\n",
    "from selenium.common.exceptions import TimeoutException\n",
    "from time import sleep\n",
    "\n",
    "# options to open driver\n",
    "options = Options()\n",
    "options.add_argument(\"start-maximized\")\n",
    "options.add_argument(\"disable-infobars\")\n",
    "options.add_argument(\"--disable-extensions\")\n",
    "\n",
    "# create web driver element\n",
    "driver = webdriver.Chrome(chrome_options=options, executable_path=\"/Users/emircan/Developer/chromedriver\")\n",
    "URL = 'https://www.mevzuat.gov.tr/#kanunlar'\n",
    "driver.get(URL)\n",
    "\n",
    "# click on 'ARA' button\n",
    "element = driver.find_element(By.ID, 'btnSearch')\n",
    "action = ActionChains(driver)\n",
    "action.click(on_element=element)\n",
    "action.perform()"
   ]
  },
  {
   "cell_type": "code",
   "execution_count": 285,
   "id": "ba09a33f-b33d-4a5b-99ad-f118dd6183d6",
   "metadata": {},
   "outputs": [
    {
     "name": "stdout",
     "output_type": "stream",
     "text": [
      "Message: stale element reference: element is not attached to the page document\n",
      "  (Session info: chrome=104.0.5112.79)\n",
      "Stacktrace:\n",
      "0   chromedriver                        0x0000000100e81d60 chromedriver + 3792224\n",
      "1   chromedriver                        0x0000000100e18874 chromedriver + 3360884\n",
      "2   chromedriver                        0x0000000100b19184 chromedriver + 217476\n",
      "3   chromedriver                        0x0000000100b1bbb4 chromedriver + 228276\n",
      "4   chromedriver                        0x0000000100b1ba1c chromedriver + 227868\n",
      "5   chromedriver                        0x0000000100b1bc50 chromedriver + 228432\n",
      "6   chromedriver                        0x0000000100b4ef50 chromedriver + 438096\n",
      "7   chromedriver                        0x0000000100b4d35c chromedriver + 430940\n",
      "8   chromedriver                        0x0000000100b4b174 chromedriver + 422260\n",
      "9   chromedriver                        0x0000000100b4a0fc chromedriver + 418044\n",
      "10  chromedriver                        0x0000000100b3fcf4 chromedriver + 376052\n",
      "11  chromedriver                        0x0000000100b3f6e0 chromedriver + 374496\n",
      "12  chromedriver                        0x0000000100b71b2c chromedriver + 580396\n",
      "13  chromedriver                        0x0000000100b3e3e4 chromedriver + 369636\n",
      "14  chromedriver                        0x0000000100e57234 chromedriver + 3617332\n",
      "15  chromedriver                        0x0000000100e5b6c4 chromedriver + 3634884\n",
      "16  chromedriver                        0x0000000100e5fcb8 chromedriver + 3652792\n",
      "17  chromedriver                        0x0000000100e5c15c chromedriver + 3637596\n",
      "18  chromedriver                        0x0000000100e3a7f8 chromedriver + 3500024\n",
      "19  chromedriver                        0x0000000100e73c3c chromedriver + 3734588\n",
      "20  chromedriver                        0x0000000100e73da0 chromedriver + 3734944\n",
      "21  chromedriver                        0x0000000100e885a4 chromedriver + 3818916\n",
      "22  libsystem_pthread.dylib             0x00000001a97a606c _pthread_start + 148\n",
      "23  libsystem_pthread.dylib             0x00000001a97a0e2c thread_start + 8\n",
      "\n"
     ]
    }
   ],
   "source": [
    "page_num = 2\n",
    "file = open('/Users/emircan/Desktop/Lexlata/Mevzuat Scrape/mevzuat.txt', 'w')\n",
    "try:\n",
    "    while(True):\n",
    "        WebDriverWait(driver, 20).until(EC.element_to_be_clickable((By.LINK_TEXT, f'{page_num}')))\n",
    "        page_link = driver.find_element(By.LINK_TEXT, f'{page_num}')\n",
    "        page_link.click()\n",
    "        \n",
    "        table = driver.find_element(By.XPATH, '//*[@id=\"DataTables_Table_0\"]/tbody')\n",
    "        \n",
    "        # write data to file\n",
    "        with  as f:\n",
    "            for index, data in enumerate(table.text.split('\\n')):\n",
    "                f.write(data + ',')\n",
    "                if (index+1) % 3 == 0:\n",
    "                    f.write('\\n')\n",
    "\n",
    "except Exception as e:\n",
    "    print(e)    "
   ]
  },
  {
   "cell_type": "code",
   "execution_count": 164,
   "id": "c6a15255-f36b-456a-9f57-d6b66af02a19",
   "metadata": {},
   "outputs": [],
   "source": [
    "driver.quit()"
   ]
  },
  {
   "cell_type": "code",
   "execution_count": null,
   "id": "9f59e168-777a-4f16-9a88-991893c9ca17",
   "metadata": {},
   "outputs": [],
   "source": [
    "class_name = 'paginate_button page-item active'\n",
    "driver.find_element(By.LINK_TEXT, f'{page_num}')\n"
   ]
  },
  {
   "cell_type": "code",
   "execution_count": 256,
   "id": "49ebcb6c-27ef-45e1-a196-0c4696d8a4db",
   "metadata": {},
   "outputs": [
    {
     "name": "stdout",
     "output_type": "stream",
     "text": [
      "4\n"
     ]
    },
    {
     "ename": "ElementClickInterceptedException",
     "evalue": "Message: element click intercepted: Element <a href=\"#\" aria-controls=\"DataTables_Table_0\" data-dt-idx=\"...\" tabindex=\"0\" class=\"page-link\">4</a> is not clickable at point (973, 759). Other element would receive the click: <div id=\"loaderContainer\" style=\"display: block;\">...</div>\n  (Session info: chrome=104.0.5112.79)\nStacktrace:\n0   chromedriver                        0x0000000100e81d60 chromedriver + 3792224\n1   chromedriver                        0x0000000100e18874 chromedriver + 3360884\n2   chromedriver                        0x0000000100b19184 chromedriver + 217476\n3   chromedriver                        0x0000000100b4f11c chromedriver + 438556\n4   chromedriver                        0x0000000100b4d35c chromedriver + 430940\n5   chromedriver                        0x0000000100b4b174 chromedriver + 422260\n6   chromedriver                        0x0000000100b4a0fc chromedriver + 418044\n7   chromedriver                        0x0000000100b3fcf4 chromedriver + 376052\n8   chromedriver                        0x0000000100b3f6e0 chromedriver + 374496\n9   chromedriver                        0x0000000100b71b2c chromedriver + 580396\n10  chromedriver                        0x0000000100b3e3e4 chromedriver + 369636\n11  chromedriver                        0x0000000100e57234 chromedriver + 3617332\n12  chromedriver                        0x0000000100e5b6c4 chromedriver + 3634884\n13  chromedriver                        0x0000000100e5fcb8 chromedriver + 3652792\n14  chromedriver                        0x0000000100e5c15c chromedriver + 3637596\n15  chromedriver                        0x0000000100e3a7f8 chromedriver + 3500024\n16  chromedriver                        0x0000000100e73c3c chromedriver + 3734588\n17  chromedriver                        0x0000000100e73da0 chromedriver + 3734944\n18  chromedriver                        0x0000000100e885a4 chromedriver + 3818916\n19  libsystem_pthread.dylib             0x00000001a97a606c _pthread_start + 148\n20  libsystem_pthread.dylib             0x00000001a97a0e2c thread_start + 8\n",
     "output_type": "error",
     "traceback": [
      "\u001b[0;31m---------------------------------------------------------------------------\u001b[0m",
      "\u001b[0;31mElementClickInterceptedException\u001b[0m          Traceback (most recent call last)",
      "Input \u001b[0;32mIn [281]\u001b[0m, in \u001b[0;36m<cell line: 10>\u001b[0;34m()\u001b[0m\n\u001b[1;32m      8\u001b[0m page_link \u001b[38;5;241m=\u001b[39m driver\u001b[38;5;241m.\u001b[39mfind_element(By\u001b[38;5;241m.\u001b[39mLINK_TEXT, \u001b[38;5;124mf\u001b[39m\u001b[38;5;124m'\u001b[39m\u001b[38;5;132;01m{\u001b[39;00mpage_num\u001b[38;5;132;01m}\u001b[39;00m\u001b[38;5;124m'\u001b[39m)\n\u001b[1;32m      9\u001b[0m \u001b[38;5;28mprint\u001b[39m(page_link\u001b[38;5;241m.\u001b[39mtext)\n\u001b[0;32m---> 10\u001b[0m \u001b[43mpage_link\u001b[49m\u001b[38;5;241;43m.\u001b[39;49m\u001b[43mclick\u001b[49m\u001b[43m(\u001b[49m\u001b[43m)\u001b[49m\n",
      "File \u001b[0;32m/opt/homebrew/Caskroom/miniforge/base/envs/dev/lib/python3.10/site-packages/selenium/webdriver/remote/webelement.py:88\u001b[0m, in \u001b[0;36mWebElement.click\u001b[0;34m(self)\u001b[0m\n\u001b[1;32m     86\u001b[0m \u001b[38;5;28;01mdef\u001b[39;00m \u001b[38;5;21mclick\u001b[39m(\u001b[38;5;28mself\u001b[39m) \u001b[38;5;241m-\u001b[39m\u001b[38;5;241m>\u001b[39m \u001b[38;5;28;01mNone\u001b[39;00m:\n\u001b[1;32m     87\u001b[0m     \u001b[38;5;124;03m\"\"\"Clicks the element.\"\"\"\u001b[39;00m\n\u001b[0;32m---> 88\u001b[0m     \u001b[38;5;28;43mself\u001b[39;49m\u001b[38;5;241;43m.\u001b[39;49m\u001b[43m_execute\u001b[49m\u001b[43m(\u001b[49m\u001b[43mCommand\u001b[49m\u001b[38;5;241;43m.\u001b[39;49m\u001b[43mCLICK_ELEMENT\u001b[49m\u001b[43m)\u001b[49m\n",
      "File \u001b[0;32m/opt/homebrew/Caskroom/miniforge/base/envs/dev/lib/python3.10/site-packages/selenium/webdriver/remote/webelement.py:396\u001b[0m, in \u001b[0;36mWebElement._execute\u001b[0;34m(self, command, params)\u001b[0m\n\u001b[1;32m    394\u001b[0m     params \u001b[38;5;241m=\u001b[39m {}\n\u001b[1;32m    395\u001b[0m params[\u001b[38;5;124m'\u001b[39m\u001b[38;5;124mid\u001b[39m\u001b[38;5;124m'\u001b[39m] \u001b[38;5;241m=\u001b[39m \u001b[38;5;28mself\u001b[39m\u001b[38;5;241m.\u001b[39m_id\n\u001b[0;32m--> 396\u001b[0m \u001b[38;5;28;01mreturn\u001b[39;00m \u001b[38;5;28;43mself\u001b[39;49m\u001b[38;5;241;43m.\u001b[39;49m\u001b[43m_parent\u001b[49m\u001b[38;5;241;43m.\u001b[39;49m\u001b[43mexecute\u001b[49m\u001b[43m(\u001b[49m\u001b[43mcommand\u001b[49m\u001b[43m,\u001b[49m\u001b[43m \u001b[49m\u001b[43mparams\u001b[49m\u001b[43m)\u001b[49m\n",
      "File \u001b[0;32m/opt/homebrew/Caskroom/miniforge/base/envs/dev/lib/python3.10/site-packages/selenium/webdriver/remote/webdriver.py:435\u001b[0m, in \u001b[0;36mWebDriver.execute\u001b[0;34m(self, driver_command, params)\u001b[0m\n\u001b[1;32m    433\u001b[0m response \u001b[38;5;241m=\u001b[39m \u001b[38;5;28mself\u001b[39m\u001b[38;5;241m.\u001b[39mcommand_executor\u001b[38;5;241m.\u001b[39mexecute(driver_command, params)\n\u001b[1;32m    434\u001b[0m \u001b[38;5;28;01mif\u001b[39;00m response:\n\u001b[0;32m--> 435\u001b[0m     \u001b[38;5;28;43mself\u001b[39;49m\u001b[38;5;241;43m.\u001b[39;49m\u001b[43merror_handler\u001b[49m\u001b[38;5;241;43m.\u001b[39;49m\u001b[43mcheck_response\u001b[49m\u001b[43m(\u001b[49m\u001b[43mresponse\u001b[49m\u001b[43m)\u001b[49m\n\u001b[1;32m    436\u001b[0m     response[\u001b[38;5;124m'\u001b[39m\u001b[38;5;124mvalue\u001b[39m\u001b[38;5;124m'\u001b[39m] \u001b[38;5;241m=\u001b[39m \u001b[38;5;28mself\u001b[39m\u001b[38;5;241m.\u001b[39m_unwrap_value(\n\u001b[1;32m    437\u001b[0m         response\u001b[38;5;241m.\u001b[39mget(\u001b[38;5;124m'\u001b[39m\u001b[38;5;124mvalue\u001b[39m\u001b[38;5;124m'\u001b[39m, \u001b[38;5;28;01mNone\u001b[39;00m))\n\u001b[1;32m    438\u001b[0m     \u001b[38;5;28;01mreturn\u001b[39;00m response\n",
      "File \u001b[0;32m/opt/homebrew/Caskroom/miniforge/base/envs/dev/lib/python3.10/site-packages/selenium/webdriver/remote/errorhandler.py:247\u001b[0m, in \u001b[0;36mErrorHandler.check_response\u001b[0;34m(self, response)\u001b[0m\n\u001b[1;32m    245\u001b[0m         alert_text \u001b[38;5;241m=\u001b[39m value[\u001b[38;5;124m'\u001b[39m\u001b[38;5;124malert\u001b[39m\u001b[38;5;124m'\u001b[39m]\u001b[38;5;241m.\u001b[39mget(\u001b[38;5;124m'\u001b[39m\u001b[38;5;124mtext\u001b[39m\u001b[38;5;124m'\u001b[39m)\n\u001b[1;32m    246\u001b[0m     \u001b[38;5;28;01mraise\u001b[39;00m exception_class(message, screen, stacktrace, alert_text)  \u001b[38;5;66;03m# type: ignore[call-arg]  # mypy is not smart enough here\u001b[39;00m\n\u001b[0;32m--> 247\u001b[0m \u001b[38;5;28;01mraise\u001b[39;00m exception_class(message, screen, stacktrace)\n",
      "\u001b[0;31mElementClickInterceptedException\u001b[0m: Message: element click intercepted: Element <a href=\"#\" aria-controls=\"DataTables_Table_0\" data-dt-idx=\"...\" tabindex=\"0\" class=\"page-link\">4</a> is not clickable at point (973, 759). Other element would receive the click: <div id=\"loaderContainer\" style=\"display: block;\">...</div>\n  (Session info: chrome=104.0.5112.79)\nStacktrace:\n0   chromedriver                        0x0000000100e81d60 chromedriver + 3792224\n1   chromedriver                        0x0000000100e18874 chromedriver + 3360884\n2   chromedriver                        0x0000000100b19184 chromedriver + 217476\n3   chromedriver                        0x0000000100b4f11c chromedriver + 438556\n4   chromedriver                        0x0000000100b4d35c chromedriver + 430940\n5   chromedriver                        0x0000000100b4b174 chromedriver + 422260\n6   chromedriver                        0x0000000100b4a0fc chromedriver + 418044\n7   chromedriver                        0x0000000100b3fcf4 chromedriver + 376052\n8   chromedriver                        0x0000000100b3f6e0 chromedriver + 374496\n9   chromedriver                        0x0000000100b71b2c chromedriver + 580396\n10  chromedriver                        0x0000000100b3e3e4 chromedriver + 369636\n11  chromedriver                        0x0000000100e57234 chromedriver + 3617332\n12  chromedriver                        0x0000000100e5b6c4 chromedriver + 3634884\n13  chromedriver                        0x0000000100e5fcb8 chromedriver + 3652792\n14  chromedriver                        0x0000000100e5c15c chromedriver + 3637596\n15  chromedriver                        0x0000000100e3a7f8 chromedriver + 3500024\n16  chromedriver                        0x0000000100e73c3c chromedriver + 3734588\n17  chromedriver                        0x0000000100e73da0 chromedriver + 3734944\n18  chromedriver                        0x0000000100e885a4 chromedriver + 3818916\n19  libsystem_pthread.dylib             0x00000001a97a606c _pthread_start + 148\n20  libsystem_pthread.dylib             0x00000001a97a0e2c thread_start + 8\n"
     ]
    }
   ],
   "source": [
    "page_num = 11\n",
    "WebDriverWait(driver, 20).until(EC.element_to_be_clickable((By.LINK_TEXT, f'{page_num}')))\n",
    "page_link = driver.find_element(By.LINK_TEXT, f'{page_num}')\n",
    "page_link.click()\n",
    "\n",
    "page_num += 1\n",
    "WebDriverWait(driver, 20).until(EC.element_to_be_clickable((By.LINK_TEXT, f'{page_num}')))\n",
    "page_link = driver.find_element(By.LINK_TEXT, f'{page_num}')\n",
    "print(page_link.text)\n",
    "page_link.click()"
   ]
  },
  {
   "cell_type": "code",
   "execution_count": 183,
   "id": "6b3c1b83-0405-4e70-b417-d1ab64b4cc75",
   "metadata": {},
   "outputs": [
    {
     "name": "stdout",
     "output_type": "stream",
     "text": [
      "1\n"
     ]
    }
   ],
   "source": [
    "with open('/Users/emircan/Desktop/Lexlata/Mevzuat Scrape/mevzuat.txt', 'r') as f:\n",
    "    print(len(f.read().split('\\n')))"
   ]
  }
 ],
 "metadata": {
  "kernelspec": {
   "display_name": "Python 3 (ipykernel)",
   "language": "python",
   "name": "python3"
  },
  "language_info": {
   "codemirror_mode": {
    "name": "ipython",
    "version": 3
   },
   "file_extension": ".py",
   "mimetype": "text/x-python",
   "name": "python",
   "nbconvert_exporter": "python",
   "pygments_lexer": "ipython3",
   "version": "3.10.0"
  }
 },
 "nbformat": 4,
 "nbformat_minor": 5
}
