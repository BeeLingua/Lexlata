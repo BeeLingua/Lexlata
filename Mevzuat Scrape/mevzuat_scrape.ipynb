{
 "cells": [
  {
   "cell_type": "code",
   "execution_count": null,
   "id": "3c8761a4-edbe-49a5-afc7-2c4185666ecd",
   "metadata": {
    "tags": []
   },
   "outputs": [],
   "source": [
    "# by Emircan\n",
    "from selenium import webdriver\n",
    "from selenium.webdriver import ActionChains\n",
    "from selenium.webdriver.common.by import By\n",
    "from selenium.webdriver.chrome.options import Options\n",
    "from selenium.webdriver.support.ui import WebDriverWait\n",
    "from selenium.webdriver.support import expected_conditions as EC\n",
    "from selenium.common.exceptions import TimeoutException\n",
    "from time import sleep\n",
    "\n",
    "# options to open driver\n",
    "options = Options()\n",
    "options.add_argument('start-maximized')\n",
    "options.add_argument('disable-infobars')\n",
    "options.add_argument('--disable-extensions')\n",
    "\n",
    "# create web driver element\n",
    "driver = webdriver.Chrome(chrome_options=options, executable_path=\"C:/Users/omerb/OneDrive/Masaüstü/selenium/chromedriver.exe\")\n",
    "URL = 'https://www.mevzuat.gov.tr/#kanunlar'\n",
    "driver.get(URL)\n",
    "\n",
    "# click on 'ARA' button\n",
    "element = driver.find_element(By.ID, 'btnSearch')\n",
    "action = ActionChains(driver)\n",
    "action.click(on_element=element)\n",
    "action.perform()\n",
    "\n",
    "# open website\n",
    "sleep(4)"
   ]
  },
  {
   "cell_type": "code",
   "execution_count": null,
   "id": "49ebcb6c-27ef-45e1-a196-0c4696d8a4db",
   "metadata": {},
   "outputs": [],
   "source": [
    "# by Emircan\n",
    "# deneme için sabit kanun seçtim aşağıda hepsini dönen loop var\n",
    "\n",
    "content_xpath = f'//*[@id=\"DataTables_Table_0\"]/tbody/tr[{2}]/td[2]/a'\n",
    "link = driver.find_element(By.XPATH, content_xpath)\n",
    "href = link.get_attribute('href')\n",
    "driver.get(href)\n",
    "# linke gidiyor, driver dokumanın olduğu sayfada"
   ]
  },
  {
   "cell_type": "code",
   "execution_count": null,
   "id": "0b4cdd56",
   "metadata": {},
   "outputs": [],
   "source": [
    "# by Bera\n",
    "# These two lines of code give us the whole word file as text.\n",
    "\n",
    "text = driver.find_elements_by_class_name('MsoNormal')\n",
    "for ad in text:\n",
    "    print(ad.text)"
   ]
  },
  {
   "cell_type": "code",
   "execution_count": null,
   "id": "a72719fc-1fc6-4139-9ce8-ac7bef574427",
   "metadata": {},
   "outputs": [],
   "source": [
    "# by Emircan\n",
    "# wait object for page zapping\n",
    "wait = WebDriverWait(driver, 10)\n",
    "\n",
    "max_page = 2 # change\n",
    "page_num = 1\n",
    "i = 1\n",
    "file = open('C:/Users/omerb/OneDrive/Masaüstü/teknoconcon/Lexlata/Mevzuat Scrape/mevzuat.txt', 'w')\n",
    "file.close()\n",
    "while(True):\n",
    "    try:\n",
    "        with open('C:/Users/omerb/OneDrive/Masaüstü/teknoconcon/Lexlata/Mevzuat Scrape/mevzuat.txt', 'a') as file:\n",
    "            page_link = driver.find_element(By.LINK_TEXT, f'{page_num}')\n",
    "            page_link.click()\n",
    "            print(i)\n",
    "            i += 1\n",
    "            table = driver.find_element(By.XPATH, '//*[@id=\"DataTables_Table_0\"]/tbody')\n",
    "            print(page_num)\n",
    "            page_num += 1\n",
    "            # write data to file\n",
    "            for index, data in enumerate(table.text.split('\\n')):\n",
    "                file.write(data + ',')\n",
    "                if (index+1) % 3 == 0:\n",
    "                    file.write('\\n')\n",
    "            if page_num == max_page:\n",
    "                break\n",
    "    except Exception as e:\n",
    "        file.close()"
   ]
  }
 ],
 "metadata": {
  "kernelspec": {
   "display_name": "Python 3",
   "language": "python",
   "name": "python3"
  },
  "language_info": {
   "codemirror_mode": {
    "name": "ipython",
    "version": 3
   },
   "file_extension": ".py",
   "mimetype": "text/x-python",
   "name": "python",
   "nbconvert_exporter": "python",
   "pygments_lexer": "ipython3",
   "version": "3.6.13"
  }
 },
 "nbformat": 4,
 "nbformat_minor": 5
}
