{
 "cells": [
  {
   "cell_type": "code",
   "execution_count": 1,
   "id": "965d040d",
   "metadata": {},
   "outputs": [
    {
     "name": "stdout",
     "output_type": "stream",
     "text": [
      "Requirement already satisfied: sentence-transformers in c:\\users\\furkan\\anaconda3\\lib\\site-packages (2.2.2)\n",
      "Requirement already satisfied: huggingface-hub>=0.4.0 in c:\\users\\furkan\\anaconda3\\lib\\site-packages (from sentence-transformers) (0.8.1)\n",
      "Requirement already satisfied: transformers<5.0.0,>=4.6.0 in c:\\users\\furkan\\anaconda3\\lib\\site-packages (from sentence-transformers) (4.20.1)\n",
      "Requirement already satisfied: numpy in c:\\users\\furkan\\anaconda3\\lib\\site-packages (from sentence-transformers) (1.20.3)\n",
      "Requirement already satisfied: scipy in c:\\users\\furkan\\anaconda3\\lib\\site-packages (from sentence-transformers) (1.7.1)\n",
      "Requirement already satisfied: torchvision in c:\\users\\furkan\\anaconda3\\lib\\site-packages (from sentence-transformers) (0.13.0)\n",
      "Requirement already satisfied: tqdm in c:\\users\\furkan\\anaconda3\\lib\\site-packages (from sentence-transformers) (4.62.3)\n",
      "Requirement already satisfied: torch>=1.6.0 in c:\\users\\furkan\\anaconda3\\lib\\site-packages (from sentence-transformers) (1.12.0)\n",
      "Requirement already satisfied: nltk in c:\\users\\furkan\\anaconda3\\lib\\site-packages (from sentence-transformers) (3.6.5)\n",
      "Requirement already satisfied: sentencepiece in c:\\users\\furkan\\anaconda3\\lib\\site-packages (from sentence-transformers) (0.1.95)\n",
      "Requirement already satisfied: scikit-learn in c:\\users\\furkan\\anaconda3\\lib\\site-packages (from sentence-transformers) (0.24.2)\n",
      "Requirement already satisfied: filelock in c:\\users\\furkan\\anaconda3\\lib\\site-packages (from huggingface-hub>=0.4.0->sentence-transformers) (3.3.1)\n",
      "Requirement already satisfied: requests in c:\\users\\furkan\\anaconda3\\lib\\site-packages (from huggingface-hub>=0.4.0->sentence-transformers) (2.26.0)\n",
      "Requirement already satisfied: packaging>=20.9 in c:\\users\\furkan\\anaconda3\\lib\\site-packages (from huggingface-hub>=0.4.0->sentence-transformers) (21.3)\n",
      "Requirement already satisfied: typing-extensions>=3.7.4.3 in c:\\users\\furkan\\anaconda3\\lib\\site-packages (from huggingface-hub>=0.4.0->sentence-transformers) (3.10.0.2)\n",
      "Requirement already satisfied: pyyaml>=5.1 in c:\\users\\furkan\\anaconda3\\lib\\site-packages (from huggingface-hub>=0.4.0->sentence-transformers) (6.0)\n",
      "Requirement already satisfied: pyparsing!=3.0.5,>=2.0.2 in c:\\users\\furkan\\anaconda3\\lib\\site-packages (from packaging>=20.9->huggingface-hub>=0.4.0->sentence-transformers) (3.0.4)\n",
      "Requirement already satisfied: tokenizers!=0.11.3,<0.13,>=0.11.1 in c:\\users\\furkan\\anaconda3\\lib\\site-packages (from transformers<5.0.0,>=4.6.0->sentence-transformers) (0.12.1)\n",
      "Requirement already satisfied: regex!=2019.12.17 in c:\\users\\furkan\\anaconda3\\lib\\site-packages (from transformers<5.0.0,>=4.6.0->sentence-transformers) (2021.8.3)\n",
      "Requirement already satisfied: colorama in c:\\users\\furkan\\anaconda3\\lib\\site-packages (from tqdm->sentence-transformers) (0.4.4)\n",
      "Requirement already satisfied: click in c:\\users\\furkan\\anaconda3\\lib\\site-packages (from nltk->sentence-transformers) (8.0.3)\n",
      "Requirement already satisfied: joblib in c:\\users\\furkan\\anaconda3\\lib\\site-packages (from nltk->sentence-transformers) (1.1.0)\n",
      "Requirement already satisfied: charset-normalizer~=2.0.0 in c:\\users\\furkan\\anaconda3\\lib\\site-packages (from requests->huggingface-hub>=0.4.0->sentence-transformers) (2.0.4)\n",
      "Requirement already satisfied: certifi>=2017.4.17 in c:\\users\\furkan\\anaconda3\\lib\\site-packages (from requests->huggingface-hub>=0.4.0->sentence-transformers) (2021.10.8)\n",
      "Requirement already satisfied: idna<4,>=2.5 in c:\\users\\furkan\\anaconda3\\lib\\site-packages (from requests->huggingface-hub>=0.4.0->sentence-transformers) (3.2)\n",
      "Requirement already satisfied: urllib3<1.27,>=1.21.1 in c:\\users\\furkan\\anaconda3\\lib\\site-packages (from requests->huggingface-hub>=0.4.0->sentence-transformers) (1.26.7)\n",
      "Requirement already satisfied: threadpoolctl>=2.0.0 in c:\\users\\furkan\\anaconda3\\lib\\site-packages (from scikit-learn->sentence-transformers) (2.2.0)\n",
      "Requirement already satisfied: pillow!=8.3.*,>=5.3.0 in c:\\users\\furkan\\anaconda3\\lib\\site-packages (from torchvision->sentence-transformers) (8.4.0)\n"
     ]
    }
   ],
   "source": [
    "!pip install sentence-transformers"
   ]
  },
  {
   "cell_type": "code",
   "execution_count": 12,
   "id": "2b183e6f",
   "metadata": {},
   "outputs": [
    {
     "name": "stderr",
     "output_type": "stream",
     "text": [
      "No sentence-transformers model found with name C:\\Users\\Furkan/.cache\\torch\\sentence_transformers\\dbmdz_bert-base-turkish-uncased. Creating a new one with MEAN pooling.\n",
      "Some weights of the model checkpoint at C:\\Users\\Furkan/.cache\\torch\\sentence_transformers\\dbmdz_bert-base-turkish-uncased were not used when initializing BertModel: ['cls.predictions.transform.LayerNorm.bias', 'cls.predictions.decoder.bias', 'cls.predictions.decoder.weight', 'cls.seq_relationship.bias', 'cls.predictions.bias', 'cls.predictions.transform.dense.bias', 'cls.seq_relationship.weight', 'cls.predictions.transform.dense.weight', 'cls.predictions.transform.LayerNorm.weight']\n",
      "- This IS expected if you are initializing BertModel from the checkpoint of a model trained on another task or with another architecture (e.g. initializing a BertForSequenceClassification model from a BertForPreTraining model).\n",
      "- This IS NOT expected if you are initializing BertModel from the checkpoint of a model that you expect to be exactly identical (initializing a BertForSequenceClassification model from a BertForSequenceClassification model).\n"
     ]
    }
   ],
   "source": [
    "import pandas as pd\n",
    "from sentence_transformers import SentenceTransformer, InputExample\n",
    "\n",
    "model = SentenceTransformer('dbmdz/bert-base-turkish-uncased')\n",
    "\n",
    "ADJACENT_SENTENCE_SIMILARITY_FACTOR = 0.75  # Between 0-1\n",
    "\n",
    "DATASET_PATH = r\"data.csv\"\n",
    "dataDF = pd.read_csv(DATASET_PATH)\n",
    "\n",
    "trainExamples = []\n",
    "for data in dataDF.iloc:\n",
    "    text = data[\"data_text\"]\n",
    "    sentences = text.replace('\\n', '. ').split(' ')\n",
    "    for sentIndex in range(len(sentences)):\n",
    "        adjacentSentences = [sentences[sentIndex]]\n",
    "        if sentIndex > 0:\n",
    "            adjacentSentences.append(sentences[sentIndex - 1])\n",
    "        if sentIndex < len(sentences) - 1:\n",
    "            adjacentSentences.append(sentences[sentIndex + 1])\n",
    "        trainExamples.append(InputExample(texts=adjacentSentences, label=ADJACENT_SENTENCE_SIMILARITY_FACTOR))"
   ]
  },
  {
   "cell_type": "code",
   "execution_count": null,
   "id": "a1b6d0f5",
   "metadata": {},
   "outputs": [],
   "source": [
    "from torch.utils.data import DataLoader\n",
    "from sentence_transformers import losses\n",
    "\n",
    "BATCH_SIZE = 16\n",
    "EPOCHS = 3\n",
    "\n",
    "trainDataLoader = DataLoader(trainExamples, shuffle=True, batch_size=BATCH_SIZE)\n",
    "trainLoss = losses.CosineSimilarityLoss(model)\n",
    "\n",
    "model.fit(train_objectives=[(trainDataLoader, trainLoss)], epochs=EPOCHS, warmup_steps=100, output_path=\"./sbert-model\", checkpoint_path=\"./sbert-model\")"
   ]
  },
  {
   "cell_type": "code",
   "execution_count": 11,
   "id": "4c280a5b",
   "metadata": {},
   "outputs": [],
   "source": [
    "# NO NEED TO EXECUTE THIS CELL, IT IS HERE JUST IN CASE\n",
    "model.save(\"./sbert-model\")"
   ]
  }
 ],
 "metadata": {
  "kernelspec": {
   "display_name": "Python 3 (ipykernel)",
   "language": "python",
   "name": "python3"
  },
  "language_info": {
   "codemirror_mode": {
    "name": "ipython",
    "version": 3
   },
   "file_extension": ".py",
   "mimetype": "text/x-python",
   "name": "python",
   "nbconvert_exporter": "python",
   "pygments_lexer": "ipython3",
   "version": "3.9.7"
  }
 },
 "nbformat": 4,
 "nbformat_minor": 5
}
